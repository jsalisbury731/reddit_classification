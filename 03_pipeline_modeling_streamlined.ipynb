{
 "cells": [
  {
   "cell_type": "code",
   "execution_count": 1,
   "metadata": {},
   "outputs": [],
   "source": [
    "import pandas as pd\n",
    "import numpy as np\n",
    "import matplotlib.pyplot as plt\n",
    "from sklearn.model_selection import train_test_split, GridSearchCV\n",
    "from sklearn.pipeline import Pipeline\n",
    "from sklearn.naive_bayes import MultinomialNB\n",
    "from sklearn.linear_model import LogisticRegression\n",
    "from sklearn.metrics import confusion_matrix, plot_confusion_matrix\n",
    "from sklearn.feature_extraction.text import CountVectorizer, TfidfVectorizer\n",
    "from nltk.corpus import stopwords"
   ]
  },
  {
   "cell_type": "code",
   "execution_count": null,
   "metadata": {},
   "outputs": [],
   "source": [
    "nltk_stopwords = stopwords.words('english')"
   ]
  },
  {
   "cell_type": "code",
   "execution_count": null,
   "metadata": {},
   "outputs": [],
   "source": [
    "df = pd.read_csv('./joined_wsb_investing.csv')"
   ]
  },
  {
   "cell_type": "code",
   "execution_count": null,
   "metadata": {},
   "outputs": [],
   "source": [
    "X = df['combined']\n",
    "y = df['sub_target']"
   ]
  },
  {
   "cell_type": "code",
   "execution_count": null,
   "metadata": {},
   "outputs": [],
   "source": [
    "X_train, X_validation, y_train, y_validation = train_test_split(X, y, random_state=42)"
   ]
  },
  {
   "cell_type": "code",
   "execution_count": null,
   "metadata": {},
   "outputs": [],
   "source": [
    "# Baseline accuracy\n",
    "y_validation.value_counts(normalize=True)"
   ]
  },
  {
   "cell_type": "code",
   "execution_count": 26,
   "metadata": {},
   "outputs": [],
   "source": [
    "def run_pipeline():\n",
    "    \n",
    "#     print('Enter 1 for CountVectorizer.\\nEnter 2 for TfidfVectorizer.')\n",
    "#     vect_input = input('\\nWhich Vectorizer would you like to use?\\n(Pick one option.) ')\n",
    "    \n",
    "#     print('\\nEnter 1 for NLTK stopwords.\\nEnter 2 for default English stopwords.\\nEnter 3 for None.')\n",
    "#     stopwords_input = input('\\nWhich stopwords would you like to test?\\n(Pick one, two, or three as options. Type all the numbers together; e.g. 12 or 123) ')\n",
    "    \n",
    "#     max_features_input = input('\\nHow many max_features would you like to use?\\n(Enter only numbers separated by commas; e.g. 1000, 2000, 3000) ')\n",
    "#     max_features_input = (f'[{max_features_input}]')\n",
    "\n",
    "#     min_df_input = input('\\nWhat min_df values would you like to use?\\n(Enter only numbers separated by commas; e.g. 2, 5, 10) ')\n",
    "#     min_df_input = (f'[{min_df_input}]')    \n",
    "\n",
    "#     max_df_input = input('\\nWhat max_df percentages would you like to use?\\n(Enter only numbers separated by commas; e.g. .85, .90, .95) ')\n",
    "#     max_df_input = (f'[{max_df_input}]')\n",
    "\n",
    "#     ngram_input = input('\\nWhat sizes of n-grams would you like to use?\\n(Type all the sizes together; e.g. 12 or 123) ')\n",
    "#     NEED TO FORMAT ngram_input into tuples\n",
    "\n",
    "#     cv_fold_input = input('\\nHow many cross validation folds would you like to use? ')\n",
    "\n",
    "    \n",
    "    pass"
   ]
  },
  {
   "cell_type": "code",
   "execution_count": 27,
   "metadata": {},
   "outputs": [
    {
     "name": "stdin",
     "output_type": "stream",
     "text": [
      "\n",
      "What min_df values would you like to use?\n",
      "(Enter only numbers separated by commas; e.g. 2, 5, 10)  2,5,10\n"
     ]
    },
    {
     "name": "stdout",
     "output_type": "stream",
     "text": [
      "[2,5,10]\n"
     ]
    }
   ],
   "source": [
    "run_pipeline()"
   ]
  },
  {
   "cell_type": "code",
   "execution_count": null,
   "metadata": {},
   "outputs": [],
   "source": []
  },
  {
   "cell_type": "code",
   "execution_count": null,
   "metadata": {},
   "outputs": [],
   "source": []
  },
  {
   "cell_type": "code",
   "execution_count": null,
   "metadata": {},
   "outputs": [],
   "source": []
  },
  {
   "cell_type": "code",
   "execution_count": null,
   "metadata": {},
   "outputs": [],
   "source": [
    "# Consider prompting if the user wants to pickle/save the model; if so, prompt for filename."
   ]
  },
  {
   "cell_type": "code",
   "execution_count": null,
   "metadata": {},
   "outputs": [],
   "source": []
  }
 ],
 "metadata": {
  "kernelspec": {
   "display_name": "Python 3",
   "language": "python",
   "name": "python3"
  },
  "language_info": {
   "codemirror_mode": {
    "name": "ipython",
    "version": 3
   },
   "file_extension": ".py",
   "mimetype": "text/x-python",
   "name": "python",
   "nbconvert_exporter": "python",
   "pygments_lexer": "ipython3",
   "version": "3.8.3"
  }
 },
 "nbformat": 4,
 "nbformat_minor": 4
}
