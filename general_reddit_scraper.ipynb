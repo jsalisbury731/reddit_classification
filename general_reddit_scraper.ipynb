{
 "cells": [
  {
   "cell_type": "code",
   "execution_count": 23,
   "metadata": {},
   "outputs": [],
   "source": [
    "import pandas as pd\n",
    "import time as time\n",
    "import requests"
   ]
  },
  {
   "cell_type": "code",
   "execution_count": null,
   "metadata": {},
   "outputs": [],
   "source": [
    "# This function scrapes tot_posts from Reddit including [removed] and [deleted] posts\n",
    "\n",
    "def scrape_reddit(subreddit, tot_posts):\n",
    "    \n",
    "    url = 'https://api.pushshift.io/reddit/search/submission'\n",
    "    df = pd.DataFrame()\n",
    "    posts_scraped = 0\n",
    "\n",
    "    while len(df) < tot_posts:\n",
    "        if tot_posts < 100:\n",
    "            params = {\n",
    "                'subreddit': subreddit,\n",
    "                'size': tot_posts,\n",
    "                'before': int(time.time())\n",
    "            }\n",
    "            res = requests.get(url, params)\n",
    "            data = res.json()\n",
    "            posts = data['data']\n",
    "            df = pd.DataFrame(posts)\n",
    "        else:\n",
    "            if len(df) == 0:\n",
    "                params = {\n",
    "                    'subreddit': subreddit,\n",
    "                    'size': 100,\n",
    "                    'before': int(time.time())\n",
    "                }\n",
    "                res = requests.get(url, params)\n",
    "                data = res.json()\n",
    "                posts = data['data']\n",
    "                df = pd.DataFrame(posts)\n",
    "                posts_scraped += 100\n",
    "            elif tot_posts - posts_scraped > 100:\n",
    "                params = {\n",
    "                    'subreddit': subreddit,\n",
    "                    'size': 100,\n",
    "                    'before': df.iloc[-1]['created_utc']\n",
    "                }\n",
    "                res = requests.get(url, params)\n",
    "                data = res.json()\n",
    "                posts = data['data']\n",
    "                df2 = pd.DataFrame(posts)\n",
    "                df = df.append(df2, ignore_index=True)\n",
    "                posts_scraped += 100\n",
    "            else:\n",
    "                params = {\n",
    "                    'subreddit': subreddit,\n",
    "                    'size': (tot_posts - posts_scraped),\n",
    "                    'before': df.iloc[-1]['created_utc']\n",
    "                }\n",
    "                res = requests.get(url, params)\n",
    "                data = res.json()\n",
    "                posts = data['data']\n",
    "                df2 = pd.DataFrame(posts)\n",
    "                df = df.append(df2, ignore_index=True)\n",
    "        \n",
    "    return df"
   ]
  }
 ],
 "metadata": {
  "kernelspec": {
   "display_name": "Python 3",
   "language": "python",
   "name": "python3"
  },
  "language_info": {
   "codemirror_mode": {
    "name": "ipython",
    "version": 3
   },
   "file_extension": ".py",
   "mimetype": "text/x-python",
   "name": "python",
   "nbconvert_exporter": "python",
   "pygments_lexer": "ipython3",
   "version": "3.8.3"
  }
 },
 "nbformat": 4,
 "nbformat_minor": 4
}
