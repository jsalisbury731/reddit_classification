{
 "cells": [
  {
   "cell_type": "code",
   "execution_count": 1,
   "metadata": {},
   "outputs": [],
   "source": [
    "import pandas as pd\n",
    "import time as time\n",
    "import requests"
   ]
  },
  {
   "cell_type": "code",
   "execution_count": 2,
   "metadata": {},
   "outputs": [],
   "source": [
    "# pd.set_option('display.max_columns', None)\n",
    "# pd.set_option('display.max_rows', None)"
   ]
  },
  {
   "cell_type": "code",
   "execution_count": 3,
   "metadata": {},
   "outputs": [],
   "source": [
    "# This function scrapes at least min_posts from Reddit not including [removed] \n",
    "# and [deleted] posts, and contingent on whether a post is_self or not\n",
    "\n",
    "def scrape_reddit(subreddit, min_posts, is_self):\n",
    "     \n",
    "    url = 'https://api.pushshift.io/reddit/search/submission'\n",
    "    df = pd.DataFrame()\n",
    "\n",
    "    while len(df) < min_posts:\n",
    "        try:\n",
    "            if is_self == 'Y':\n",
    "                if len(df) == 0:\n",
    "                    params = {\n",
    "                        'subreddit': subreddit,\n",
    "                        'size': 100,\n",
    "                        'before': int(time.time()),\n",
    "                        'is_self': True,\n",
    "                    }\n",
    "                    res = requests.get(url, params)\n",
    "                    data = res.json()\n",
    "                    posts = data['data']\n",
    "                    df = pd.DataFrame(posts)\n",
    "                    df.drop(df[df['selftext'] == '[removed]'].index, inplace = True)\n",
    "                    df.drop(df[df['selftext'] == '[deleted]'].index, inplace = True)\n",
    "                else:\n",
    "                    params = {\n",
    "                        'subreddit': subreddit,\n",
    "                        'size': 100,\n",
    "                        'before': df.iloc[-1]['created_utc'],\n",
    "                        'is_self': True,\n",
    "                    }\n",
    "                    res = requests.get(url, params)\n",
    "                    data = res.json()\n",
    "                    posts = data['data']\n",
    "                    df2 = pd.DataFrame(posts)\n",
    "                    df = df.append(df2, ignore_index=True)\n",
    "                    df.drop(df[df['selftext'] == '[removed]'].index, inplace = True)\n",
    "                    df.drop(df[df['selftext'] == '[deleted]'].index, inplace = True)        \n",
    "            elif is_self == 'N':\n",
    "                if len(df) == 0:\n",
    "                    params = {\n",
    "                        'subreddit': subreddit,\n",
    "                        'size': 100,\n",
    "                        'before': int(time.time()),\n",
    "                    }\n",
    "                    res = requests.get(url, params)\n",
    "                    data = res.json()\n",
    "                    posts = data['data']\n",
    "                    df = pd.DataFrame(posts)\n",
    "                    df.drop(df[df['selftext'] == '[removed]'].index, inplace = True)\n",
    "                    df.drop(df[df['selftext'] == '[deleted]'].index, inplace = True)\n",
    "                else:\n",
    "                    params = {\n",
    "                        'subreddit': subreddit,\n",
    "                        'size': 100,\n",
    "                        'before': df.iloc[-1]['created_utc'],\n",
    "                    }\n",
    "                    res = requests.get(url, params)\n",
    "                    data = res.json()\n",
    "                    posts = data['data']\n",
    "                    df2 = pd.DataFrame(posts)\n",
    "                    df = df.append(df2, ignore_index=True)\n",
    "                    df.drop(df[df['selftext'] == '[removed]'].index, inplace = True)\n",
    "                    df.drop(df[df['selftext'] == '[deleted]'].index, inplace = True)\n",
    "            else:\n",
    "                print(f\"Enter 'Y' or 'N' for third argument.\")\n",
    "                break\n",
    "        except JSONDecodeError:\n",
    "            pass\n",
    "        except:\n",
    "            print('Other error.')\n",
    "            \n",
    "        time.sleep(3)\n",
    "        \n",
    "    df.reset_index(inplace=True)\n",
    "    return df"
   ]
  },
  {
   "cell_type": "code",
   "execution_count": 4,
   "metadata": {},
   "outputs": [],
   "source": [
    "# CHANGE THIS CELL FOR PULLING NEW INFORMATION\n",
    "\n",
    "subreddit = 'askwomen'"
   ]
  },
  {
   "cell_type": "code",
   "execution_count": 5,
   "metadata": {},
   "outputs": [],
   "source": [
    "df = scrape_reddit(subreddit, 10_000, 'Y')"
   ]
  },
  {
   "cell_type": "code",
   "execution_count": 6,
   "metadata": {},
   "outputs": [],
   "source": [
    "df[['title', 'selftext', 'author', 'subreddit']].to_csv(f'./{subreddit}.csv', index=False)"
   ]
  }
 ],
 "metadata": {
  "kernelspec": {
   "display_name": "Python 3",
   "language": "python",
   "name": "python3"
  },
  "language_info": {
   "codemirror_mode": {
    "name": "ipython",
    "version": 3
   },
   "file_extension": ".py",
   "mimetype": "text/x-python",
   "name": "python",
   "nbconvert_exporter": "python",
   "pygments_lexer": "ipython3",
   "version": "3.8.3"
  }
 },
 "nbformat": 4,
 "nbformat_minor": 4
}
