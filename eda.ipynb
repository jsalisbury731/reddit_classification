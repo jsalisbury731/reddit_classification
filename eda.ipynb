{
 "cells": [
  {
   "cell_type": "code",
   "execution_count": 46,
   "metadata": {},
   "outputs": [],
   "source": [
    "import pandas as pd\n",
    "import numpy as np\n",
    "import matplotlib.pyplot as plt\n",
    "from sklearn.model_selection import train_test_split, GridSearchCV\n",
    "from sklearn.pipeline import Pipeline\n",
    "from sklearn.naive_bayes import MultinomialNB\n",
    "from sklearn.linear_model import LogisticRegression\n",
    "from sklearn.metrics import confusion_matrix, plot_confusion_matrix\n",
    "from sklearn.feature_extraction.text import CountVectorizer, TfidfVectorizer\n",
    "from nltk.corpus import stopwords"
   ]
  },
  {
   "cell_type": "code",
   "execution_count": 47,
   "metadata": {},
   "outputs": [],
   "source": [
    "wallstreetbets = pd.read_csv('./wallstreetbets_trimmed.csv')\n",
    "investing = pd.read_csv('./investing_trimmed.csv')"
   ]
  },
  {
   "cell_type": "code",
   "execution_count": 48,
   "metadata": {},
   "outputs": [
    {
     "data": {
      "text/html": [
       "<div>\n",
       "<style scoped>\n",
       "    .dataframe tbody tr th:only-of-type {\n",
       "        vertical-align: middle;\n",
       "    }\n",
       "\n",
       "    .dataframe tbody tr th {\n",
       "        vertical-align: top;\n",
       "    }\n",
       "\n",
       "    .dataframe thead th {\n",
       "        text-align: right;\n",
       "    }\n",
       "</style>\n",
       "<table border=\"1\" class=\"dataframe\">\n",
       "  <thead>\n",
       "    <tr style=\"text-align: right;\">\n",
       "      <th></th>\n",
       "      <th>selftext</th>\n",
       "      <th>title</th>\n",
       "      <th>id</th>\n",
       "      <th>subreddit</th>\n",
       "    </tr>\n",
       "  </thead>\n",
       "  <tbody>\n",
       "    <tr>\n",
       "      <th>0</th>\n",
       "      <td>Estimated $CMG earnings, while historically pr...</td>\n",
       "      <td>Chipotle earnings?</td>\n",
       "      <td>jc17j1</td>\n",
       "      <td>wallstreetbets</td>\n",
       "    </tr>\n",
       "    <tr>\n",
       "      <th>1</th>\n",
       "      <td>It seems like most of the posts here are about...</td>\n",
       "      <td>Does anyone do the 'buy and hold' strategy?</td>\n",
       "      <td>jc164y</td>\n",
       "      <td>wallstreetbets</td>\n",
       "    </tr>\n",
       "    <tr>\n",
       "      <th>2</th>\n",
       "      <td>Oldschool runescape markets could be our next ...</td>\n",
       "      <td>Colab between most autistic sub and most autis...</td>\n",
       "      <td>jc1225</td>\n",
       "      <td>wallstreetbets</td>\n",
       "    </tr>\n",
       "    <tr>\n",
       "      <th>3</th>\n",
       "      <td>Enjoy!\\n\\n&amp;amp;#x200B;\\n\\nHello S3CR3TB1TCH,\\n...</td>\n",
       "      <td>PSA: Robinhood is increasing margin reqs. Your...</td>\n",
       "      <td>jc11mg</td>\n",
       "      <td>wallstreetbets</td>\n",
       "    </tr>\n",
       "    <tr>\n",
       "      <th>4</th>\n",
       "      <td>So NY is a for convenience state and city, but...</td>\n",
       "      <td>How bad is it gonna be when for example NYC go...</td>\n",
       "      <td>jc1061</td>\n",
       "      <td>wallstreetbets</td>\n",
       "    </tr>\n",
       "  </tbody>\n",
       "</table>\n",
       "</div>"
      ],
      "text/plain": [
       "                                            selftext  \\\n",
       "0  Estimated $CMG earnings, while historically pr...   \n",
       "1  It seems like most of the posts here are about...   \n",
       "2  Oldschool runescape markets could be our next ...   \n",
       "3  Enjoy!\\n\\n&amp;#x200B;\\n\\nHello S3CR3TB1TCH,\\n...   \n",
       "4  So NY is a for convenience state and city, but...   \n",
       "\n",
       "                                               title      id       subreddit  \n",
       "0                                 Chipotle earnings?  jc17j1  wallstreetbets  \n",
       "1        Does anyone do the 'buy and hold' strategy?  jc164y  wallstreetbets  \n",
       "2  Colab between most autistic sub and most autis...  jc1225  wallstreetbets  \n",
       "3  PSA: Robinhood is increasing margin reqs. Your...  jc11mg  wallstreetbets  \n",
       "4  How bad is it gonna be when for example NYC go...  jc1061  wallstreetbets  "
      ]
     },
     "execution_count": 48,
     "metadata": {},
     "output_type": "execute_result"
    }
   ],
   "source": [
    "wallstreetbets.head()"
   ]
  },
  {
   "cell_type": "code",
   "execution_count": 49,
   "metadata": {},
   "outputs": [
    {
     "data": {
      "text/plain": [
       "(10047, 4)"
      ]
     },
     "execution_count": 49,
     "metadata": {},
     "output_type": "execute_result"
    }
   ],
   "source": [
    "wallstreetbets.shape"
   ]
  },
  {
   "cell_type": "code",
   "execution_count": 50,
   "metadata": {},
   "outputs": [
    {
     "data": {
      "text/html": [
       "<div>\n",
       "<style scoped>\n",
       "    .dataframe tbody tr th:only-of-type {\n",
       "        vertical-align: middle;\n",
       "    }\n",
       "\n",
       "    .dataframe tbody tr th {\n",
       "        vertical-align: top;\n",
       "    }\n",
       "\n",
       "    .dataframe thead th {\n",
       "        text-align: right;\n",
       "    }\n",
       "</style>\n",
       "<table border=\"1\" class=\"dataframe\">\n",
       "  <thead>\n",
       "    <tr style=\"text-align: right;\">\n",
       "      <th></th>\n",
       "      <th>selftext</th>\n",
       "      <th>title</th>\n",
       "      <th>id</th>\n",
       "      <th>subreddit</th>\n",
       "    </tr>\n",
       "  </thead>\n",
       "  <tbody>\n",
       "    <tr>\n",
       "      <th>0</th>\n",
       "      <td>\\n\\nI have read all the knowledge available o...</td>\n",
       "      <td>Diversification is so important that i can't s...</td>\n",
       "      <td>jc0qo4</td>\n",
       "      <td>investing</td>\n",
       "    </tr>\n",
       "    <tr>\n",
       "      <th>1</th>\n",
       "      <td>example of what a formula is\\n\\nE= energy\\n\\nc...</td>\n",
       "      <td>ok sierus question, what is the literal mathem...</td>\n",
       "      <td>jbzkt4</td>\n",
       "      <td>investing</td>\n",
       "    </tr>\n",
       "    <tr>\n",
       "      <th>2</th>\n",
       "      <td>#1 Gold Current Price = $2000 Investment retur...</td>\n",
       "      <td>Investing in precious metals table</td>\n",
       "      <td>jbz6cw</td>\n",
       "      <td>investing</td>\n",
       "    </tr>\n",
       "    <tr>\n",
       "      <th>3</th>\n",
       "      <td>Where could one find (preferably free) data su...</td>\n",
       "      <td>Where do you get data for backtesting?</td>\n",
       "      <td>jbz6aj</td>\n",
       "      <td>investing</td>\n",
       "    </tr>\n",
       "    <tr>\n",
       "      <th>4</th>\n",
       "      <td>With asset management companies all having sli...</td>\n",
       "      <td>How to value asset management companies</td>\n",
       "      <td>jbz1u4</td>\n",
       "      <td>investing</td>\n",
       "    </tr>\n",
       "  </tbody>\n",
       "</table>\n",
       "</div>"
      ],
      "text/plain": [
       "                                            selftext  \\\n",
       "0   \\n\\nI have read all the knowledge available o...   \n",
       "1  example of what a formula is\\n\\nE= energy\\n\\nc...   \n",
       "2  #1 Gold Current Price = $2000 Investment retur...   \n",
       "3  Where could one find (preferably free) data su...   \n",
       "4  With asset management companies all having sli...   \n",
       "\n",
       "                                               title      id  subreddit  \n",
       "0  Diversification is so important that i can't s...  jc0qo4  investing  \n",
       "1  ok sierus question, what is the literal mathem...  jbzkt4  investing  \n",
       "2                 Investing in precious metals table  jbz6cw  investing  \n",
       "3             Where do you get data for backtesting?  jbz6aj  investing  \n",
       "4            How to value asset management companies  jbz1u4  investing  "
      ]
     },
     "execution_count": 50,
     "metadata": {},
     "output_type": "execute_result"
    }
   ],
   "source": [
    "investing.head()"
   ]
  },
  {
   "cell_type": "code",
   "execution_count": 51,
   "metadata": {},
   "outputs": [
    {
     "data": {
      "text/plain": [
       "(10040, 4)"
      ]
     },
     "execution_count": 51,
     "metadata": {},
     "output_type": "execute_result"
    }
   ],
   "source": [
    "investing.shape"
   ]
  },
  {
   "cell_type": "code",
   "execution_count": 54,
   "metadata": {},
   "outputs": [],
   "source": [
    "df = wallstreetbets.append(investing).reset_index()"
   ]
  },
  {
   "cell_type": "code",
   "execution_count": 56,
   "metadata": {},
   "outputs": [],
   "source": [
    "df['sub_target'] = np.where(df['subreddit'] == 'wallstreetbets', 1, 0)"
   ]
  },
  {
   "cell_type": "code",
   "execution_count": 57,
   "metadata": {},
   "outputs": [
    {
     "data": {
      "text/plain": [
       "(20087, 7)"
      ]
     },
     "execution_count": 57,
     "metadata": {},
     "output_type": "execute_result"
    }
   ],
   "source": [
    "df.shape"
   ]
  },
  {
   "cell_type": "code",
   "execution_count": 58,
   "metadata": {},
   "outputs": [],
   "source": [
    "df.drop_duplicates(subset=['selftext'], inplace=True)"
   ]
  },
  {
   "cell_type": "code",
   "execution_count": 59,
   "metadata": {},
   "outputs": [
    {
     "data": {
      "text/plain": [
       "level_0       0\n",
       "index         0\n",
       "selftext      1\n",
       "title         0\n",
       "id            0\n",
       "subreddit     0\n",
       "sub_target    0\n",
       "dtype: int64"
      ]
     },
     "execution_count": 59,
     "metadata": {},
     "output_type": "execute_result"
    }
   ],
   "source": [
    "df.isnull().sum()"
   ]
  },
  {
   "cell_type": "code",
   "execution_count": 60,
   "metadata": {},
   "outputs": [],
   "source": [
    "df.dropna(inplace=True)"
   ]
  },
  {
   "cell_type": "code",
   "execution_count": 61,
   "metadata": {},
   "outputs": [
    {
     "data": {
      "text/plain": [
       "(19202, 7)"
      ]
     },
     "execution_count": 61,
     "metadata": {},
     "output_type": "execute_result"
    }
   ],
   "source": [
    "df.shape"
   ]
  },
  {
   "cell_type": "code",
   "execution_count": 62,
   "metadata": {},
   "outputs": [],
   "source": [
    "df['combined'] = (df['title'] + ' ' + df['selftext'])"
   ]
  },
  {
   "cell_type": "code",
   "execution_count": 63,
   "metadata": {},
   "outputs": [
    {
     "data": {
      "text/html": [
       "<div>\n",
       "<style scoped>\n",
       "    .dataframe tbody tr th:only-of-type {\n",
       "        vertical-align: middle;\n",
       "    }\n",
       "\n",
       "    .dataframe tbody tr th {\n",
       "        vertical-align: top;\n",
       "    }\n",
       "\n",
       "    .dataframe thead th {\n",
       "        text-align: right;\n",
       "    }\n",
       "</style>\n",
       "<table border=\"1\" class=\"dataframe\">\n",
       "  <thead>\n",
       "    <tr style=\"text-align: right;\">\n",
       "      <th></th>\n",
       "      <th>level_0</th>\n",
       "      <th>index</th>\n",
       "      <th>selftext</th>\n",
       "      <th>title</th>\n",
       "      <th>id</th>\n",
       "      <th>subreddit</th>\n",
       "      <th>sub_target</th>\n",
       "      <th>combined</th>\n",
       "    </tr>\n",
       "  </thead>\n",
       "  <tbody>\n",
       "    <tr>\n",
       "      <th>0</th>\n",
       "      <td>0</td>\n",
       "      <td>0</td>\n",
       "      <td>Estimated $CMG earnings, while historically pr...</td>\n",
       "      <td>Chipotle earnings?</td>\n",
       "      <td>jc17j1</td>\n",
       "      <td>wallstreetbets</td>\n",
       "      <td>1</td>\n",
       "      <td>Chipotle earnings? Estimated $CMG earnings, wh...</td>\n",
       "    </tr>\n",
       "    <tr>\n",
       "      <th>1</th>\n",
       "      <td>1</td>\n",
       "      <td>1</td>\n",
       "      <td>It seems like most of the posts here are about...</td>\n",
       "      <td>Does anyone do the 'buy and hold' strategy?</td>\n",
       "      <td>jc164y</td>\n",
       "      <td>wallstreetbets</td>\n",
       "      <td>1</td>\n",
       "      <td>Does anyone do the 'buy and hold' strategy? It...</td>\n",
       "    </tr>\n",
       "    <tr>\n",
       "      <th>2</th>\n",
       "      <td>2</td>\n",
       "      <td>2</td>\n",
       "      <td>Oldschool runescape markets could be our next ...</td>\n",
       "      <td>Colab between most autistic sub and most autis...</td>\n",
       "      <td>jc1225</td>\n",
       "      <td>wallstreetbets</td>\n",
       "      <td>1</td>\n",
       "      <td>Colab between most autistic sub and most autis...</td>\n",
       "    </tr>\n",
       "    <tr>\n",
       "      <th>3</th>\n",
       "      <td>3</td>\n",
       "      <td>3</td>\n",
       "      <td>Enjoy!\\n\\n&amp;amp;#x200B;\\n\\nHello S3CR3TB1TCH,\\n...</td>\n",
       "      <td>PSA: Robinhood is increasing margin reqs. Your...</td>\n",
       "      <td>jc11mg</td>\n",
       "      <td>wallstreetbets</td>\n",
       "      <td>1</td>\n",
       "      <td>PSA: Robinhood is increasing margin reqs. Your...</td>\n",
       "    </tr>\n",
       "    <tr>\n",
       "      <th>4</th>\n",
       "      <td>4</td>\n",
       "      <td>4</td>\n",
       "      <td>So NY is a for convenience state and city, but...</td>\n",
       "      <td>How bad is it gonna be when for example NYC go...</td>\n",
       "      <td>jc1061</td>\n",
       "      <td>wallstreetbets</td>\n",
       "      <td>1</td>\n",
       "      <td>How bad is it gonna be when for example NYC go...</td>\n",
       "    </tr>\n",
       "  </tbody>\n",
       "</table>\n",
       "</div>"
      ],
      "text/plain": [
       "   level_0  index                                           selftext  \\\n",
       "0        0      0  Estimated $CMG earnings, while historically pr...   \n",
       "1        1      1  It seems like most of the posts here are about...   \n",
       "2        2      2  Oldschool runescape markets could be our next ...   \n",
       "3        3      3  Enjoy!\\n\\n&amp;#x200B;\\n\\nHello S3CR3TB1TCH,\\n...   \n",
       "4        4      4  So NY is a for convenience state and city, but...   \n",
       "\n",
       "                                               title      id       subreddit  \\\n",
       "0                                 Chipotle earnings?  jc17j1  wallstreetbets   \n",
       "1        Does anyone do the 'buy and hold' strategy?  jc164y  wallstreetbets   \n",
       "2  Colab between most autistic sub and most autis...  jc1225  wallstreetbets   \n",
       "3  PSA: Robinhood is increasing margin reqs. Your...  jc11mg  wallstreetbets   \n",
       "4  How bad is it gonna be when for example NYC go...  jc1061  wallstreetbets   \n",
       "\n",
       "   sub_target                                           combined  \n",
       "0           1  Chipotle earnings? Estimated $CMG earnings, wh...  \n",
       "1           1  Does anyone do the 'buy and hold' strategy? It...  \n",
       "2           1  Colab between most autistic sub and most autis...  \n",
       "3           1  PSA: Robinhood is increasing margin reqs. Your...  \n",
       "4           1  How bad is it gonna be when for example NYC go...  "
      ]
     },
     "execution_count": 63,
     "metadata": {},
     "output_type": "execute_result"
    }
   ],
   "source": [
    "df.head()"
   ]
  },
  {
   "cell_type": "code",
   "execution_count": 64,
   "metadata": {},
   "outputs": [],
   "source": [
    "df['char_count'] = df['combined'].str.len()\n",
    "df['word_count'] = df['combined'].str.count(' ') + 1"
   ]
  },
  {
   "cell_type": "code",
   "execution_count": 43,
   "metadata": {},
   "outputs": [],
   "source": [
    "df.to_csv('./joined_wsb_investing.csv')"
   ]
  },
  {
   "cell_type": "code",
   "execution_count": 65,
   "metadata": {},
   "outputs": [
    {
     "data": {
      "text/plain": [
       "1    0.505937\n",
       "0    0.494063\n",
       "Name: sub_target, dtype: float64"
      ]
     },
     "execution_count": 65,
     "metadata": {},
     "output_type": "execute_result"
    }
   ],
   "source": [
    "df['sub_target'].value_counts(normalize=True)"
   ]
  },
  {
   "cell_type": "code",
   "execution_count": 19,
   "metadata": {},
   "outputs": [
    {
     "data": {
      "text/plain": [
       "count    19202.000000\n",
       "mean       862.159567\n",
       "std       1466.720360\n",
       "min         33.000000\n",
       "25%        349.000000\n",
       "50%        510.000000\n",
       "75%        853.000000\n",
       "max      39979.000000\n",
       "Name: char_count, dtype: float64"
      ]
     },
     "execution_count": 19,
     "metadata": {},
     "output_type": "execute_result"
    }
   ],
   "source": [
    "df['char_count'].describe()"
   ]
  },
  {
   "cell_type": "code",
   "execution_count": 20,
   "metadata": {},
   "outputs": [
    {
     "data": {
      "text/plain": [
       "count    19202.000000\n",
       "mean       141.539267\n",
       "std        220.290793\n",
       "min          2.000000\n",
       "25%         60.000000\n",
       "50%         88.000000\n",
       "75%        144.000000\n",
       "max       5955.000000\n",
       "Name: word_count, dtype: float64"
      ]
     },
     "execution_count": 20,
     "metadata": {},
     "output_type": "execute_result"
    }
   ],
   "source": [
    "df['word_count'].describe()"
   ]
  },
  {
   "cell_type": "code",
   "execution_count": 21,
   "metadata": {},
   "outputs": [
    {
     "data": {
      "text/html": [
       "<div>\n",
       "<style scoped>\n",
       "    .dataframe tbody tr th:only-of-type {\n",
       "        vertical-align: middle;\n",
       "    }\n",
       "\n",
       "    .dataframe tbody tr th {\n",
       "        vertical-align: top;\n",
       "    }\n",
       "\n",
       "    .dataframe thead th {\n",
       "        text-align: right;\n",
       "    }\n",
       "</style>\n",
       "<table border=\"1\" class=\"dataframe\">\n",
       "  <thead>\n",
       "    <tr style=\"text-align: right;\">\n",
       "      <th></th>\n",
       "      <th>index</th>\n",
       "      <th>selftext</th>\n",
       "      <th>title</th>\n",
       "      <th>id</th>\n",
       "      <th>subreddit</th>\n",
       "      <th>sub_target</th>\n",
       "      <th>combined</th>\n",
       "      <th>char_count</th>\n",
       "      <th>word_count</th>\n",
       "    </tr>\n",
       "  </thead>\n",
       "  <tbody>\n",
       "    <tr>\n",
       "      <th>0</th>\n",
       "      <td>0</td>\n",
       "      <td>Estimated $CMG earnings, while historically pr...</td>\n",
       "      <td>Chipotle earnings?</td>\n",
       "      <td>jc17j1</td>\n",
       "      <td>wallstreetbets</td>\n",
       "      <td>1</td>\n",
       "      <td>Chipotle earnings? Estimated $CMG earnings, wh...</td>\n",
       "      <td>938</td>\n",
       "      <td>154</td>\n",
       "    </tr>\n",
       "    <tr>\n",
       "      <th>1</th>\n",
       "      <td>1</td>\n",
       "      <td>It seems like most of the posts here are about...</td>\n",
       "      <td>Does anyone do the 'buy and hold' strategy?</td>\n",
       "      <td>jc164y</td>\n",
       "      <td>wallstreetbets</td>\n",
       "      <td>1</td>\n",
       "      <td>Does anyone do the 'buy and hold' strategy? It...</td>\n",
       "      <td>356</td>\n",
       "      <td>60</td>\n",
       "    </tr>\n",
       "    <tr>\n",
       "      <th>2</th>\n",
       "      <td>2</td>\n",
       "      <td>Oldschool runescape markets could be our next ...</td>\n",
       "      <td>Colab between most autistic sub and most autis...</td>\n",
       "      <td>jc1225</td>\n",
       "      <td>wallstreetbets</td>\n",
       "      <td>1</td>\n",
       "      <td>Colab between most autistic sub and most autis...</td>\n",
       "      <td>347</td>\n",
       "      <td>60</td>\n",
       "    </tr>\n",
       "    <tr>\n",
       "      <th>3</th>\n",
       "      <td>3</td>\n",
       "      <td>Enjoy!\\n\\n&amp;amp;#x200B;\\n\\nHello S3CR3TB1TCH,\\n...</td>\n",
       "      <td>PSA: Robinhood is increasing margin reqs. Your...</td>\n",
       "      <td>jc11mg</td>\n",
       "      <td>wallstreetbets</td>\n",
       "      <td>1</td>\n",
       "      <td>PSA: Robinhood is increasing margin reqs. Your...</td>\n",
       "      <td>2143</td>\n",
       "      <td>250</td>\n",
       "    </tr>\n",
       "    <tr>\n",
       "      <th>4</th>\n",
       "      <td>4</td>\n",
       "      <td>So NY is a for convenience state and city, but...</td>\n",
       "      <td>How bad is it gonna be when for example NYC go...</td>\n",
       "      <td>jc1061</td>\n",
       "      <td>wallstreetbets</td>\n",
       "      <td>1</td>\n",
       "      <td>How bad is it gonna be when for example NYC go...</td>\n",
       "      <td>584</td>\n",
       "      <td>109</td>\n",
       "    </tr>\n",
       "  </tbody>\n",
       "</table>\n",
       "</div>"
      ],
      "text/plain": [
       "   index                                           selftext  \\\n",
       "0      0  Estimated $CMG earnings, while historically pr...   \n",
       "1      1  It seems like most of the posts here are about...   \n",
       "2      2  Oldschool runescape markets could be our next ...   \n",
       "3      3  Enjoy!\\n\\n&amp;#x200B;\\n\\nHello S3CR3TB1TCH,\\n...   \n",
       "4      4  So NY is a for convenience state and city, but...   \n",
       "\n",
       "                                               title      id       subreddit  \\\n",
       "0                                 Chipotle earnings?  jc17j1  wallstreetbets   \n",
       "1        Does anyone do the 'buy and hold' strategy?  jc164y  wallstreetbets   \n",
       "2  Colab between most autistic sub and most autis...  jc1225  wallstreetbets   \n",
       "3  PSA: Robinhood is increasing margin reqs. Your...  jc11mg  wallstreetbets   \n",
       "4  How bad is it gonna be when for example NYC go...  jc1061  wallstreetbets   \n",
       "\n",
       "   sub_target                                           combined  char_count  \\\n",
       "0           1  Chipotle earnings? Estimated $CMG earnings, wh...         938   \n",
       "1           1  Does anyone do the 'buy and hold' strategy? It...         356   \n",
       "2           1  Colab between most autistic sub and most autis...         347   \n",
       "3           1  PSA: Robinhood is increasing margin reqs. Your...        2143   \n",
       "4           1  How bad is it gonna be when for example NYC go...         584   \n",
       "\n",
       "   word_count  \n",
       "0         154  \n",
       "1          60  \n",
       "2          60  \n",
       "3         250  \n",
       "4         109  "
      ]
     },
     "execution_count": 21,
     "metadata": {},
     "output_type": "execute_result"
    }
   ],
   "source": [
    "df.head()"
   ]
  },
  {
   "cell_type": "code",
   "execution_count": 22,
   "metadata": {},
   "outputs": [
    {
     "data": {
      "image/png": "[encoded data removed]",
      "text/plain": [
       "<Figure size 1152x576 with 1 Axes>"
      ]
     },
     "metadata": {
      "needs_background": "light"
     },
     "output_type": "display_data"
    }
   ],
   "source": [
    "plt.figure(figsize=(16,8))\n",
    "plt.hist([df[df['sub_target']==0]['char_count'], \n",
    "          df[df['sub_target']==1]['char_count']],\n",
    "         bins=40, color=['orange', 'blue'], ec='k')\n",
    "plt.title('Character Count by Class', fontsize=24)\n",
    "plt.legend(['Investing', 'Wallstreetbets']);"
   ]
  },
  {
   "cell_type": "code",
   "execution_count": 23,
   "metadata": {},
   "outputs": [
    {
     "data": {
      "image/png": "[encoded data removed]",
      "text/plain": [
       "<Figure size 1152x576 with 1 Axes>"
      ]
     },
     "metadata": {
      "needs_background": "light"
     },
     "output_type": "display_data"
    }
   ],
   "source": [
    "plt.figure(figsize=(16,8))\n",
    "plt.hist([df[df['sub_target']==0]['word_count'], \n",
    "          df[df['sub_target']==1]['word_count']],\n",
    "         bins=40, color=['orange', 'blue'], ec='k')\n",
    "plt.title('Word Count by Class', fontsize=24)\n",
    "plt.legend(['Investing', 'Wallstreetbets']);"
   ]
  },
  {
   "cell_type": "code",
   "execution_count": 24,
   "metadata": {},
   "outputs": [],
   "source": [
    "X = df['combined']\n",
    "y = df['sub_target']"
   ]
  },
  {
   "cell_type": "code",
   "execution_count": 25,
   "metadata": {},
   "outputs": [
    {
     "data": {
      "text/plain": [
       "1    0.505937\n",
       "0    0.494063\n",
       "Name: sub_target, dtype: float64"
      ]
     },
     "execution_count": 25,
     "metadata": {},
     "output_type": "execute_result"
    }
   ],
   "source": [
    "y.value_counts(normalize=True)"
   ]
  },
  {
   "cell_type": "code",
   "execution_count": 26,
   "metadata": {},
   "outputs": [],
   "source": [
    "X_train, X_validation, y_train, y_validation = train_test_split(X, y, random_state=42)"
   ]
  },
  {
   "cell_type": "code",
   "execution_count": 27,
   "metadata": {},
   "outputs": [],
   "source": [
    "# Instantiate a CountVectorizer.\n",
    "cvec = CountVectorizer()"
   ]
  },
  {
   "cell_type": "code",
   "execution_count": 28,
   "metadata": {},
   "outputs": [],
   "source": [
    "# Fit/transform the vectorizer on our corpus.\n",
    "X_train = cvec.fit_transform(X_train)"
   ]
  },
  {
   "cell_type": "code",
   "execution_count": 29,
   "metadata": {},
   "outputs": [],
   "source": [
    "X_validation = cvec.transform(X_validation)"
   ]
  },
  {
   "cell_type": "code",
   "execution_count": 30,
   "metadata": {},
   "outputs": [
    {
     "data": {
      "text/plain": [
       "(14401, 53783)"
      ]
     },
     "execution_count": 30,
     "metadata": {},
     "output_type": "execute_result"
    }
   ],
   "source": [
    "X_train.shape"
   ]
  },
  {
   "cell_type": "code",
   "execution_count": 31,
   "metadata": {},
   "outputs": [
    {
     "data": {
      "text/plain": [
       "scipy.sparse.csr.csr_matrix"
      ]
     },
     "execution_count": 31,
     "metadata": {},
     "output_type": "execute_result"
    }
   ],
   "source": [
    "type(X_train)"
   ]
  },
  {
   "cell_type": "code",
   "execution_count": 33,
   "metadata": {},
   "outputs": [
    {
     "data": {
      "image/png": "[encoded data removed]",
      "text/plain": [
       "<Figure size 1008x576 with 1 Axes>"
      ]
     },
     "metadata": {
      "needs_background": "light"
     },
     "output_type": "display_data"
    }
   ],
   "source": [
    "# Convert X_train into a DataFrame.\n",
    "# We will not actually use this for modeling,\n",
    "# this is just to visualize what is happening\n",
    "X_train_df = pd.DataFrame(X_train.todense(), columns=cvec.get_feature_names())\n",
    "\n",
    "# Plot top occuring words\n",
    "plt.figure(figsize=(14, 8))\n",
    "X_train_df.sum().sort_values(ascending=False).head(20).plot(kind='barh');"
   ]
  },
  {
   "cell_type": "code",
   "execution_count": 39,
   "metadata": {},
   "outputs": [],
   "source": []
  },
  {
   "cell_type": "code",
   "execution_count": null,
   "metadata": {},
   "outputs": [],
   "source": []
  },
  {
   "cell_type": "code",
   "execution_count": null,
   "metadata": {},
   "outputs": [],
   "source": []
  }
 ],
 "metadata": {
  "kernelspec": {
   "display_name": "Python 3",
   "language": "python",
   "name": "python3"
  },
  "language_info": {
   "codemirror_mode": {
    "name": "ipython",
    "version": 3
   },
   "file_extension": ".py",
   "mimetype": "text/x-python",
   "name": "python",
   "nbconvert_exporter": "python",
   "pygments_lexer": "ipython3",
   "version": "3.8.3"
  }
 },
 "nbformat": 4,
 "nbformat_minor": 4
}
