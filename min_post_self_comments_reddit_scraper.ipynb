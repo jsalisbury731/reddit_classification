{
 "cells": [
  {
   "cell_type": "code",
   "execution_count": 1,
   "metadata": {},
   "outputs": [],
   "source": [
    "import pandas as pd\n",
    "import time as time\n",
    "import requests"
   ]
  },
  {
   "cell_type": "code",
   "execution_count": 2,
   "metadata": {},
   "outputs": [],
   "source": [
    "pd.set_option('display.max_columns', None)\n",
    "pd.set_option('display.max_rows', None)"
   ]
  },
  {
   "cell_type": "code",
   "execution_count": 3,
   "metadata": {},
   "outputs": [],
   "source": [
    "# This function scrapes at least min_posts from Reddit not including [removed] and [deleted] posts, and whether a post is_self or not\n",
    "\n",
    "def scrape_reddit_comments(subreddit, min_comments):\n",
    "     \n",
    "    url = 'https://api.pushshift.io/reddit/search/comment'\n",
    "    df = pd.DataFrame()\n",
    "    comments_scraped = 0\n",
    "\n",
    "    while len(df) < min_comments:\n",
    "        print('len =', len(df))\n",
    "\n",
    "        if len(df) == 0:\n",
    "            params = {\n",
    "                'subreddit': subreddit,\n",
    "                'size': 100,\n",
    "                'before': int(time.time()),\n",
    "                'nest_level': 1\n",
    "            }\n",
    "            res = requests.get(url, params)\n",
    "            data = res.json()\n",
    "            comments = data['data']\n",
    "            df = pd.DataFrame(comments)\n",
    "            df.drop(df[df['author'] == 'AutoModerator'].index, inplace = True)\n",
    "#             df.drop(df[df['author'] == '[deleted]'].index, inplace = True)\n",
    "        else:\n",
    "            params = {\n",
    "                'subreddit': subreddit,\n",
    "                'size': 100,\n",
    "                'before': df.iloc[-1]['created_utc'],\n",
    "                'nest_level': 1\n",
    "            }\n",
    "            res = requests.get(url, params)\n",
    "            data = res.json()\n",
    "            comments = data['data']\n",
    "            df2 = pd.DataFrame(comments)\n",
    "            df = df.append(df2, ignore_index=True)\n",
    "            df.drop(df[df['author'] == 'AutoModerator'].index, inplace = True)\n",
    "#             df.drop(df[df['author'] == '[deleted]'].index, inplace = True)      \n",
    "            \n",
    "        print(f'Status code: {res.status_code}')\n",
    "        time.sleep(2)\n",
    "        \n",
    "    return df"
   ]
  },
  {
   "cell_type": "code",
   "execution_count": 6,
   "metadata": {},
   "outputs": [
    {
     "name": "stdout",
     "output_type": "stream",
     "text": [
      "len = 0\n",
      "Status code: 200\n",
      "len = 100\n",
      "Status code: 200\n",
      "len = 200\n",
      "Status code: 200\n",
      "len = 300\n",
      "Status code: 200\n",
      "len = 399\n",
      "Status code: 200\n",
      "len = 498\n",
      "Status code: 200\n"
     ]
    }
   ],
   "source": [
    "wallstreetbets = scrape_reddit_comments('wallstreetbets', 500)"
   ]
  },
  {
   "cell_type": "code",
   "execution_count": 7,
   "metadata": {},
   "outputs": [
    {
     "data": {
      "text/html": [
       "<div>\n",
       "<style scoped>\n",
       "    .dataframe tbody tr th:only-of-type {\n",
       "        vertical-align: middle;\n",
       "    }\n",
       "\n",
       "    .dataframe tbody tr th {\n",
       "        vertical-align: top;\n",
       "    }\n",
       "\n",
       "    .dataframe thead th {\n",
       "        text-align: right;\n",
       "    }\n",
       "</style>\n",
       "<table border=\"1\" class=\"dataframe\">\n",
       "  <thead>\n",
       "    <tr style=\"text-align: right;\">\n",
       "      <th></th>\n",
       "      <th>id</th>\n",
       "      <th>link_id</th>\n",
       "      <th>body</th>\n",
       "    </tr>\n",
       "  </thead>\n",
       "  <tbody>\n",
       "    <tr>\n",
       "      <th>0</th>\n",
       "      <td>g8r9vj4</td>\n",
       "      <td>t3_jalaq5</td>\n",
       "      <td>Just wait til you find out the truth about Mar...</td>\n",
       "    </tr>\n",
       "    <tr>\n",
       "      <th>1</th>\n",
       "      <td>g8r9vf4</td>\n",
       "      <td>t3_jalaq5</td>\n",
       "      <td>And I will fuck you in excitement</td>\n",
       "    </tr>\n",
       "    <tr>\n",
       "      <th>2</th>\n",
       "      <td>g8r9v41</td>\n",
       "      <td>t3_jalaq5</td>\n",
       "      <td>I can't believe you didn't know that. I can't ...</td>\n",
       "    </tr>\n",
       "    <tr>\n",
       "      <th>3</th>\n",
       "      <td>g8r9uyp</td>\n",
       "      <td>t3_jar7kl</td>\n",
       "      <td>$4.1 million in account...\\n\\n**HAS PROMPT ON ...</td>\n",
       "    </tr>\n",
       "    <tr>\n",
       "      <th>4</th>\n",
       "      <td>g8r9usn</td>\n",
       "      <td>t3_jalhcl</td>\n",
       "      <td>From what I know about short squeezes, which i...</td>\n",
       "    </tr>\n",
       "  </tbody>\n",
       "</table>\n",
       "</div>"
      ],
      "text/plain": [
       "        id    link_id                                               body\n",
       "0  g8r9vj4  t3_jalaq5  Just wait til you find out the truth about Mar...\n",
       "1  g8r9vf4  t3_jalaq5                  And I will fuck you in excitement\n",
       "2  g8r9v41  t3_jalaq5  I can't believe you didn't know that. I can't ...\n",
       "3  g8r9uyp  t3_jar7kl  $4.1 million in account...\\n\\n**HAS PROMPT ON ...\n",
       "4  g8r9usn  t3_jalhcl  From what I know about short squeezes, which i..."
      ]
     },
     "execution_count": 7,
     "metadata": {},
     "output_type": "execute_result"
    }
   ],
   "source": [
    "wallstreetbets[['id', 'link_id', 'body']].head()"
   ]
  },
  {
   "cell_type": "code",
   "execution_count": 10,
   "metadata": {},
   "outputs": [
    {
     "data": {
      "text/plain": [
       "'jalaq5'"
      ]
     },
     "execution_count": 10,
     "metadata": {},
     "output_type": "execute_result"
    }
   ],
   "source": [
    "wallstreetbets['link_id'][0][3:]"
   ]
  },
  {
   "cell_type": "code",
   "execution_count": null,
   "metadata": {},
   "outputs": [],
   "source": []
  },
  {
   "cell_type": "code",
   "execution_count": null,
   "metadata": {},
   "outputs": [],
   "source": []
  },
  {
   "cell_type": "code",
   "execution_count": null,
   "metadata": {},
   "outputs": [],
   "source": []
  },
  {
   "cell_type": "code",
   "execution_count": null,
   "metadata": {},
   "outputs": [],
   "source": [
    "# stocks[['subreddit', 'title', 'selftext', 'domain']].head(25)"
   ]
  },
  {
   "cell_type": "code",
   "execution_count": null,
   "metadata": {},
   "outputs": [],
   "source": [
    "# stocks.to_csv('./stocks.csv')"
   ]
  },
  {
   "cell_type": "code",
   "execution_count": null,
   "metadata": {},
   "outputs": [],
   "source": []
  }
 ],
 "metadata": {
  "kernelspec": {
   "display_name": "Python 3",
   "language": "python",
   "name": "python3"
  },
  "language_info": {
   "codemirror_mode": {
    "name": "ipython",
    "version": 3
   },
   "file_extension": ".py",
   "mimetype": "text/x-python",
   "name": "python",
   "nbconvert_exporter": "python",
   "pygments_lexer": "ipython3",
   "version": "3.8.3"
  }
 },
 "nbformat": 4,
 "nbformat_minor": 4
}
