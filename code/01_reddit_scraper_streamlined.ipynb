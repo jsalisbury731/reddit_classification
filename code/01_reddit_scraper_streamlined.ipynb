{
 "cells": [
  {
   "cell_type": "code",
   "execution_count": 1,
   "metadata": {},
   "outputs": [],
   "source": [
    "# Imports\n",
    "\n",
    "import pandas as pd\n",
    "\n",
    "import os\n",
    "os.chdir('../assets')\n",
    "import reddit as reddit\n",
    "os.chdir('.')"
   ]
  },
  {
   "cell_type": "markdown",
   "metadata": {},
   "source": [
    "In the below cell, I identify the subreddit I am interested in pulling data from. Changing this string to another subreddit will act as an input for my scrape_reddit() function and scrape the new subreddit instead."
   ]
  },
  {
   "cell_type": "code",
   "execution_count": 2,
   "metadata": {},
   "outputs": [],
   "source": [
    "# Change this string to whichever subreddit to pull\n",
    "\n",
    "subreddit = 'investing'"
   ]
  },
  {
   "cell_type": "markdown",
   "metadata": {},
   "source": [
    "Next, I call the scrape_reddit() function from my reddit.py file. This function contains the code to scrape the designated subreddit from above with the called out parameters. The parameters for the function are the subreddit to scrape, the minimum number of posts to aggregate, and whether or not to only scrape self.posts (posts that are textual containing selftext and are not linked to an external source). The function prints the total number of posts collected after each loop."
   ]
  },
  {
   "cell_type": "code",
   "execution_count": 3,
   "metadata": {},
   "outputs": [
    {
     "name": "stdout",
     "output_type": "stream",
     "text": [
      "80\n",
      "157\n",
      "238\n",
      "312\n"
     ]
    }
   ],
   "source": [
    "df = reddit.scrape_reddit(subreddit, 10_000, 'Y')"
   ]
  },
  {
   "cell_type": "markdown",
   "metadata": {},
   "source": [
    "I export the pulled subreddit dataframe only including the columns I was interested in keeping."
   ]
  },
  {
   "cell_type": "code",
   "execution_count": 4,
   "metadata": {},
   "outputs": [],
   "source": [
    "df[['title', 'selftext', 'author', 'subreddit']].to_csv(f'../data/{subreddit}.csv', index=False)"
   ]
  }
 ],
 "metadata": {
  "kernelspec": {
   "display_name": "Python 3",
   "language": "python",
   "name": "python3"
  },
  "language_info": {
   "codemirror_mode": {
    "name": "ipython",
    "version": 3
   },
   "file_extension": ".py",
   "mimetype": "text/x-python",
   "name": "python",
   "nbconvert_exporter": "python",
   "pygments_lexer": "ipython3",
   "version": "3.8.3"
  }
 },
 "nbformat": 4,
 "nbformat_minor": 4
}
