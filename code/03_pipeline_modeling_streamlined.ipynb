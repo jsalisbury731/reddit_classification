{
 "cells": [
  {
   "cell_type": "code",
   "execution_count": 1,
   "metadata": {},
   "outputs": [],
   "source": [
    "import pandas as pd\n",
    "# import numpy as np\n",
    "# import matplotlib.pyplot as plt\n",
    "from sklearn.model_selection import train_test_split, GridSearchCV\n",
    "from sklearn.pipeline import Pipeline\n",
    "from sklearn.naive_bayes import MultinomialNB\n",
    "# from sklearn.linear_model import LogisticRegression\n",
    "# from sklearn.metrics import confusion_matrix, plot_confusion_matrix\n",
    "from sklearn.feature_extraction.text import CountVectorizer, TfidfVectorizer\n",
    "from nltk.corpus import stopwords\n",
    "\n",
    "import os\n",
    "os.chdir('../assets')\n",
    "import reddit as reddit\n",
    "os.chdir('.')"
   ]
  },
  {
   "cell_type": "code",
   "execution_count": 2,
   "metadata": {},
   "outputs": [],
   "source": [
    "df = pd.read_csv('../data/joined_wallstreetbets_investing.csv')"
   ]
  },
  {
   "cell_type": "code",
   "execution_count": 3,
   "metadata": {},
   "outputs": [
    {
     "name": "stdout",
     "output_type": "stream",
     "text": [
      "Baseline accuracy:\n",
      "1    0.505942\n",
      "0    0.494058\n",
      "Name: sub_target, dtype: float64\n"
     ]
    }
   ],
   "source": [
    "X = df['combined']\n",
    "y = df['sub_target']\n",
    "\n",
    "X_train, X_validation, y_train, y_validation = train_test_split(X, y)\n",
    "\n",
    "# Print baseline accuracy\n",
    "print(f'Baseline accuracy:\\n{y_validation.value_counts(normalize=True)}')"
   ]
  },
  {
   "cell_type": "code",
   "execution_count": 4,
   "metadata": {},
   "outputs": [],
   "source": [
    "add_stopwords = ['amp x200b', 'https', 'www', 'http']"
   ]
  },
  {
   "cell_type": "code",
   "execution_count": 5,
   "metadata": {},
   "outputs": [
    {
     "name": "stdout",
     "output_type": "stream",
     "text": [
      "Enter 1 for CountVectorizer.\n",
      "Enter 2 for TfidfVectorizer.\n"
     ]
    },
    {
     "name": "stdin",
     "output_type": "stream",
     "text": [
      "\n",
      "Which Vectorizer would you like to use?\n",
      "(Pick one option.)  2\n"
     ]
    },
    {
     "name": "stdout",
     "output_type": "stream",
     "text": [
      "\n",
      "Enter 1 for NLTK stopwords.\n",
      "Enter 2 for default English stopwords.\n",
      "Enter 3 for None.\n"
     ]
    },
    {
     "name": "stdin",
     "output_type": "stream",
     "text": [
      "\n",
      "Which stopwords would you like to test?\n",
      "(Pick one, two, or three as options. Type all the numbers separated by spaces; e.g. 1 2 or 1 2 3)  1 2 3\n",
      "\n",
      "How many max_features would you like to test?\n",
      "(Enter only numbers separated by spaces; e.g. 1000 2000 3000)  32000 35000 38000 41000\n",
      "\n",
      "What min_df values would you like to use?\n",
      "(Enter only numbers separated by spaces; e.g. 2 5 10)  3 4 5\n",
      "\n",
      "What max_df percentages would you like to use?\n",
      "(Enter only numbers separated by spaces; e.g. .85 .90 .95)  .85\n"
     ]
    },
    {
     "name": "stdout",
     "output_type": "stream",
     "text": [
      "\n",
      "Enter 1 for calculating just unigrams.\n",
      "Enter 2 for calculating unigrams and bigrams.\n",
      "Enter 3 for calculating unigrams, bigrams, and trigrams.\n"
     ]
    },
    {
     "name": "stdin",
     "output_type": "stream",
     "text": [
      "\n",
      "Which n-grams would you like to use?\n",
      "(Pick one option.)  2\n",
      "\n",
      "How many cross validation folds would you like to use?  5\n"
     ]
    }
   ],
   "source": [
    "params = reddit.get_params()"
   ]
  },
  {
   "cell_type": "code",
   "execution_count": 6,
   "metadata": {},
   "outputs": [
    {
     "name": "stdout",
     "output_type": "stream",
     "text": [
      "Fitting 5 folds for each of 168 candidates, totalling 840 fits\n"
     ]
    },
    {
     "name": "stderr",
     "output_type": "stream",
     "text": [
      "[Parallel(n_jobs=6)]: Using backend LokyBackend with 6 concurrent workers.\n",
      "[Parallel(n_jobs=6)]: Done  38 tasks      | elapsed:    8.6s\n",
      "[Parallel(n_jobs=6)]: Done 188 tasks      | elapsed:   41.3s\n",
      "[Parallel(n_jobs=6)]: Done 438 tasks      | elapsed:  1.5min\n",
      "[Parallel(n_jobs=6)]: Done 788 tasks      | elapsed:  2.6min\n",
      "[Parallel(n_jobs=6)]: Done 840 out of 840 | elapsed:  2.8min finished\n"
     ]
    },
    {
     "name": "stdout",
     "output_type": "stream",
     "text": [
      "Best parameters: {'vec__max_df': 0.85, 'vec__max_features': 38000, 'vec__min_df': 3, 'vec__ngram_range': (1, 2), 'vec__stop_words': 'english'}\n",
      "Best score: 0.8702750685287274\n"
     ]
    }
   ],
   "source": [
    "reddit.run_model(params, X_train, y_train, add_stopwords)"
   ]
  },
  {
   "cell_type": "code",
   "execution_count": null,
   "metadata": {},
   "outputs": [],
   "source": []
  },
  {
   "cell_type": "code",
   "execution_count": null,
   "metadata": {},
   "outputs": [],
   "source": []
  },
  {
   "cell_type": "code",
   "execution_count": 7,
   "metadata": {},
   "outputs": [],
   "source": [
    "# Consider prompting if the user wants to pickle/save the model; if so, prompt for filename."
   ]
  },
  {
   "cell_type": "code",
   "execution_count": null,
   "metadata": {},
   "outputs": [],
   "source": []
  }
 ],
 "metadata": {
  "kernelspec": {
   "display_name": "Python 3",
   "language": "python",
   "name": "python3"
  },
  "language_info": {
   "codemirror_mode": {
    "name": "ipython",
    "version": 3
   },
   "file_extension": ".py",
   "mimetype": "text/x-python",
   "name": "python",
   "nbconvert_exporter": "python",
   "pygments_lexer": "ipython3",
   "version": "3.8.3"
  }
 },
 "nbformat": 4,
 "nbformat_minor": 4
}
