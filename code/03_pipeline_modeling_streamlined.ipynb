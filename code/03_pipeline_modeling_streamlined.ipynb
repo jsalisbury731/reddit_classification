{
 "cells": [
  {
   "cell_type": "code",
   "execution_count": 47,
   "metadata": {},
   "outputs": [],
   "source": [
    "import pandas as pd\n",
    "import numpy as np\n",
    "import matplotlib.pyplot as plt\n",
    "from sklearn.model_selection import train_test_split, GridSearchCV\n",
    "from sklearn.pipeline import Pipeline\n",
    "from sklearn.naive_bayes import MultinomialNB\n",
    "# from sklearn.linear_model import LogisticRegression\n",
    "from sklearn.metrics import confusion_matrix, plot_confusion_matrix, recall_score, precision_score, f1_score\n",
    "from sklearn.feature_extraction.text import CountVectorizer, TfidfVectorizer\n",
    "from nltk.corpus import stopwords\n",
    "\n",
    "import os\n",
    "os.chdir('../assets')\n",
    "import reddit as reddit\n",
    "os.chdir('.')"
   ]
  },
  {
   "cell_type": "code",
   "execution_count": 2,
   "metadata": {},
   "outputs": [],
   "source": [
    "df = pd.read_csv('../data/joined_wallstreetbets_investing.csv')"
   ]
  },
  {
   "cell_type": "code",
   "execution_count": 3,
   "metadata": {},
   "outputs": [
    {
     "name": "stdout",
     "output_type": "stream",
     "text": [
      "Baseline accuracy:\n",
      "1    0.504129\n",
      "0    0.495871\n",
      "Name: sub_target, dtype: float64\n"
     ]
    }
   ],
   "source": [
    "X = df['combined']\n",
    "y = df['sub_target']\n",
    "\n",
    "X_train, X_validation, y_train, y_validation = train_test_split(X, y, random_state=42)\n",
    "\n",
    "# Print baseline accuracy\n",
    "print(f'Baseline accuracy:\\n{y_validation.value_counts(normalize=True)}')"
   ]
  },
  {
   "cell_type": "code",
   "execution_count": 4,
   "metadata": {},
   "outputs": [],
   "source": [
    "add_stopwords = ['amp', 'amp x200b', 'fintel', 'io', 'https', 'www', 'http', 'com', 'wallstreetbets', 'reddit', 'restrict_sr']"
   ]
  },
  {
   "cell_type": "code",
   "execution_count": 5,
   "metadata": {},
   "outputs": [],
   "source": [
    "# params = reddit.get_params()"
   ]
  },
  {
   "cell_type": "code",
   "execution_count": 6,
   "metadata": {},
   "outputs": [],
   "source": [
    "# gs = reddit.run_model(params, X_train, y_train, add_stopwords)"
   ]
  },
  {
   "cell_type": "code",
   "execution_count": null,
   "metadata": {},
   "outputs": [],
   "source": []
  },
  {
   "cell_type": "code",
   "execution_count": 7,
   "metadata": {},
   "outputs": [],
   "source": [
    "# preds = gs.predict(X_validation)"
   ]
  },
  {
   "cell_type": "code",
   "execution_count": 8,
   "metadata": {},
   "outputs": [],
   "source": [
    "# tn, fp, fn, tp = confusion_matrix(y_validation, preds).ravel()"
   ]
  },
  {
   "cell_type": "code",
   "execution_count": null,
   "metadata": {},
   "outputs": [],
   "source": []
  },
  {
   "cell_type": "code",
   "execution_count": null,
   "metadata": {},
   "outputs": [],
   "source": []
  },
  {
   "cell_type": "code",
   "execution_count": 9,
   "metadata": {},
   "outputs": [],
   "source": [
    "# gs.score(X_validation, y_validation)"
   ]
  },
  {
   "cell_type": "code",
   "execution_count": 10,
   "metadata": {},
   "outputs": [],
   "source": [
    "# tn / (tn+fp)"
   ]
  },
  {
   "cell_type": "code",
   "execution_count": 11,
   "metadata": {},
   "outputs": [],
   "source": [
    "# recall_score(y_validation, preds)"
   ]
  },
  {
   "cell_type": "code",
   "execution_count": 12,
   "metadata": {},
   "outputs": [],
   "source": [
    "# precision_score(y_validation, preds)"
   ]
  },
  {
   "cell_type": "code",
   "execution_count": 13,
   "metadata": {},
   "outputs": [],
   "source": [
    "# f1_score(y_validation, preds)"
   ]
  },
  {
   "cell_type": "code",
   "execution_count": null,
   "metadata": {},
   "outputs": [],
   "source": []
  },
  {
   "cell_type": "code",
   "execution_count": null,
   "metadata": {},
   "outputs": [],
   "source": []
  },
  {
   "cell_type": "code",
   "execution_count": null,
   "metadata": {},
   "outputs": [],
   "source": []
  },
  {
   "cell_type": "code",
   "execution_count": null,
   "metadata": {},
   "outputs": [],
   "source": []
  },
  {
   "cell_type": "code",
   "execution_count": 14,
   "metadata": {},
   "outputs": [],
   "source": [
    "# plot_confusion_matrix(gs, X_validation, y_validation, cmap='Blues', \n",
    "#                       values_format='d', display_labels=['investing', 'wallstreetbets']);   # Need to update alive/dead to correct subreddits"
   ]
  },
  {
   "cell_type": "code",
   "execution_count": null,
   "metadata": {},
   "outputs": [],
   "source": []
  },
  {
   "cell_type": "code",
   "execution_count": 15,
   "metadata": {},
   "outputs": [],
   "source": [
    "# Consider prompting if the user wants to pickle/save the model; if so, prompt for filename."
   ]
  },
  {
   "cell_type": "code",
   "execution_count": null,
   "metadata": {},
   "outputs": [],
   "source": []
  },
  {
   "cell_type": "markdown",
   "metadata": {},
   "source": [
    "# Sentiment Analysis"
   ]
  },
  {
   "cell_type": "code",
   "execution_count": null,
   "metadata": {},
   "outputs": [],
   "source": []
  },
  {
   "cell_type": "code",
   "execution_count": 16,
   "metadata": {},
   "outputs": [],
   "source": [
    "from nltk.sentiment.vader import SentimentIntensityAnalyzer\n",
    "from nltk.tokenize import sent_tokenize, word_tokenize, RegexpTokenizer\n",
    "from nltk.stem import WordNetLemmatizer\n",
    "from nltk.stem.porter import PorterStemmer"
   ]
  },
  {
   "cell_type": "code",
   "execution_count": 215,
   "metadata": {},
   "outputs": [],
   "source": [
    "positive_words = ['black', 'green', 'buy', 'bull', 'bullish', 'long', 'surplus', 'positive', \n",
    "                  'up', 'increase', 'skyrocket', 'rise', 'gain', 'gains', 'gained', 'profit', \n",
    "                  'calls', 'positive', 'happy', 'significant', 'boost', 'undervalued', 'explosive',\n",
    "                  'outperform', 'jump', 'cheap', 'uptrend', 'strong', 'enter', 'higher', 'accumulate',\n",
    "                  'hopeful', 'addition', 'approval', 'solid', 'upside', 'accelerate', 'better',\n",
    "                  'good', 'burst', 'climb', 'over', 'breakout', 'maintain', 'opportunity', 'make', \n",
    "                  'best', 'like']\n",
    "\n",
    "negative_words = ['red', 'sell', 'bear', 'bearish', 'short', 'shorting', 'debt', 'negative', \n",
    "                  'down', 'decrease', 'plummet', 'drop', 'lose', 'loss', 'lost', 'puts', \n",
    "                  'negative', 'risk', 'uncertain', 'worse', 'alleged', 'insignificant', \n",
    "                  'dip', 'downside', 'overvalued', 'caution', 'cautious', 'sink', 'downtrend',\n",
    "                  'weak', 'dump', 'trap', 'exit', 'lower', 'divest', 'dismal', 'below', 'low',\n",
    "                  'reduce', 'reduction', 'abandon', 'blood', 'bloodbath', 'bogus', 'bad', 'chump',\n",
    "                  'corrupt', 'costly', 'crash', 'damage', 'danger', 'depression', 'avoid', 'under',\n",
    "                  'worst', 'hate']"
   ]
  },
  {
   "cell_type": "code",
   "execution_count": 216,
   "metadata": {},
   "outputs": [],
   "source": [
    "p_stemmer = PorterStemmer()"
   ]
  },
  {
   "cell_type": "code",
   "execution_count": 217,
   "metadata": {},
   "outputs": [],
   "source": [
    "positive_stems = list(set([p_stemmer.stem(word) for word in positive_words]))"
   ]
  },
  {
   "cell_type": "code",
   "execution_count": 218,
   "metadata": {},
   "outputs": [],
   "source": [
    "negative_stems = list(set([p_stemmer.stem(word) for word in negative_words]))"
   ]
  },
  {
   "cell_type": "code",
   "execution_count": 219,
   "metadata": {},
   "outputs": [],
   "source": [
    "tokenizer = RegexpTokenizer(r'\\w+')\n",
    "\n",
    "# https://stackoverflow.com/questions/57039945/use-regexptokenizer-in-a-pandas-dataframe\n",
    "df['tokens'] = df['combined'].map(tokenizer.tokenize)"
   ]
  },
  {
   "cell_type": "code",
   "execution_count": 220,
   "metadata": {},
   "outputs": [],
   "source": [
    "# Code help from James Hampton\n",
    "\n",
    "def list_stem(token_list, stemmer=p_stemmer):\n",
    "    return [stemmer.stem(x) for x in token_list]"
   ]
  },
  {
   "cell_type": "code",
   "execution_count": 221,
   "metadata": {},
   "outputs": [],
   "source": [
    "df['stemmed'] = df['tokens'].map(list_stem)"
   ]
  },
  {
   "cell_type": "code",
   "execution_count": 222,
   "metadata": {},
   "outputs": [],
   "source": [
    "def stock_sent(stemmed):\n",
    "    positive_count = sum([1 for word in stemmed if word in positive_stems])\n",
    "    negative_count = sum([1 for word in stemmed if word in negative_stems])\n",
    "    return (positive_count - negative_count) / len(stemmed)"
   ]
  },
  {
   "cell_type": "code",
   "execution_count": 223,
   "metadata": {},
   "outputs": [],
   "source": [
    "df['stock_sentiment'] = df['stemmed'].map(stock_sent)"
   ]
  },
  {
   "cell_type": "code",
   "execution_count": null,
   "metadata": {},
   "outputs": [],
   "source": []
  },
  {
   "cell_type": "code",
   "execution_count": null,
   "metadata": {},
   "outputs": [],
   "source": []
  },
  {
   "cell_type": "code",
   "execution_count": 26,
   "metadata": {},
   "outputs": [],
   "source": [
    "sentiment = SentimentIntensityAnalyzer()"
   ]
  },
  {
   "cell_type": "code",
   "execution_count": 27,
   "metadata": {},
   "outputs": [],
   "source": [
    "# sentiment.polarity_scores(df['combined'][2])"
   ]
  },
  {
   "cell_type": "code",
   "execution_count": null,
   "metadata": {},
   "outputs": [],
   "source": []
  },
  {
   "cell_type": "code",
   "execution_count": 28,
   "metadata": {},
   "outputs": [],
   "source": [
    "# https://medium.com/swlh/simple-sentiment-analysis-for-nlp-beginners-and-everyone-else-using-vader-and-textblob-728da3dbe33d\n",
    "df['compound_sent'] = [sentiment.polarity_scores(v)['compound'] for v in df['combined']]"
   ]
  },
  {
   "cell_type": "code",
   "execution_count": null,
   "metadata": {},
   "outputs": [],
   "source": []
  },
  {
   "cell_type": "code",
   "execution_count": 224,
   "metadata": {},
   "outputs": [],
   "source": [
    "df['stock_sentiment_sign'] = np.where(df['stock_sentiment'] > 0, 'Positive', (np.where(df['stock_sentiment'] < 0, 'Negative', 'Neutral')))\n",
    "df['compound_sent_sign'] = np.where(df['compound_sent'] > 0, 'Positive', (np.where(df['compound_sent'] < 0, 'Negative', 'Neutral')))"
   ]
  },
  {
   "cell_type": "code",
   "execution_count": 225,
   "metadata": {},
   "outputs": [],
   "source": [
    "neutrals = df[df['stock_sentiment_sign']=='Neutral']"
   ]
  },
  {
   "cell_type": "code",
   "execution_count": 229,
   "metadata": {},
   "outputs": [
    {
     "data": {
      "text/html": [
       "<div>\n",
       "<style scoped>\n",
       "    .dataframe tbody tr th:only-of-type {\n",
       "        vertical-align: middle;\n",
       "    }\n",
       "\n",
       "    .dataframe tbody tr th {\n",
       "        vertical-align: top;\n",
       "    }\n",
       "\n",
       "    .dataframe thead th {\n",
       "        text-align: right;\n",
       "    }\n",
       "</style>\n",
       "<table border=\"1\" class=\"dataframe\">\n",
       "  <thead>\n",
       "    <tr style=\"text-align: right;\">\n",
       "      <th></th>\n",
       "      <th>Unnamed: 0</th>\n",
       "      <th>index</th>\n",
       "      <th>title</th>\n",
       "      <th>selftext</th>\n",
       "      <th>author</th>\n",
       "      <th>subreddit</th>\n",
       "      <th>sub_target</th>\n",
       "      <th>combined</th>\n",
       "      <th>char_count</th>\n",
       "      <th>word_count</th>\n",
       "      <th>tokens</th>\n",
       "      <th>stemmed</th>\n",
       "      <th>stock_sentiment</th>\n",
       "      <th>compound_sent</th>\n",
       "      <th>stock_sentiment_sign</th>\n",
       "      <th>compound_sent_sign</th>\n",
       "    </tr>\n",
       "  </thead>\n",
       "  <tbody>\n",
       "    <tr>\n",
       "      <th>8</th>\n",
       "      <td>8</td>\n",
       "      <td>8</td>\n",
       "      <td>Gamestop Partners with Sony For a % Commission...</td>\n",
       "      <td>...... maybe one day.\\n\\n\\njust imagine if thi...</td>\n",
       "      <td>SourceCodeSeller</td>\n",
       "      <td>wallstreetbets</td>\n",
       "      <td>1</td>\n",
       "      <td>gamestop partners with sony for a % commission...</td>\n",
       "      <td>468</td>\n",
       "      <td>70</td>\n",
       "      <td>[gamestop, partners, with, sony, for, a, commi...</td>\n",
       "      <td>[gamestop, partner, with, soni, for, a, commis...</td>\n",
       "      <td>0.0</td>\n",
       "      <td>0.3612</td>\n",
       "      <td>Neutral</td>\n",
       "      <td>Positive</td>\n",
       "    </tr>\n",
       "    <tr>\n",
       "      <th>16</th>\n",
       "      <td>16</td>\n",
       "      <td>16</td>\n",
       "      <td>AMD</td>\n",
       "      <td>I really think this is a hell of a investment ...</td>\n",
       "      <td>kinggoku123</td>\n",
       "      <td>wallstreetbets</td>\n",
       "      <td>1</td>\n",
       "      <td>amd i really think this is a hell of a investm...</td>\n",
       "      <td>307</td>\n",
       "      <td>65</td>\n",
       "      <td>[amd, i, really, think, this, is, a, hell, of,...</td>\n",
       "      <td>[amd, i, realli, think, thi, is, a, hell, of, ...</td>\n",
       "      <td>0.0</td>\n",
       "      <td>0.6731</td>\n",
       "      <td>Neutral</td>\n",
       "      <td>Positive</td>\n",
       "    </tr>\n",
       "    <tr>\n",
       "      <th>36</th>\n",
       "      <td>36</td>\n",
       "      <td>36</td>\n",
       "      <td>Never made money on TSLA</td>\n",
       "      <td>Back in the pre-split days, I always caught TS...</td>\n",
       "      <td>firstonesnotfree</td>\n",
       "      <td>wallstreetbets</td>\n",
       "      <td>1</td>\n",
       "      <td>never made money on tsla back in the pre-split...</td>\n",
       "      <td>567</td>\n",
       "      <td>102</td>\n",
       "      <td>[never, made, money, on, tsla, back, in, the, ...</td>\n",
       "      <td>[never, made, money, on, tsla, back, in, the, ...</td>\n",
       "      <td>0.0</td>\n",
       "      <td>-0.1838</td>\n",
       "      <td>Neutral</td>\n",
       "      <td>Negative</td>\n",
       "    </tr>\n",
       "    <tr>\n",
       "      <th>40</th>\n",
       "      <td>40</td>\n",
       "      <td>40</td>\n",
       "      <td>A coin of our own for r/wsb</td>\n",
       "      <td>Why is r/cryptocurrency the only one with thei...</td>\n",
       "      <td>philhh</td>\n",
       "      <td>wallstreetbets</td>\n",
       "      <td>1</td>\n",
       "      <td>a coin of our own for r/wsb why is r/cryptocur...</td>\n",
       "      <td>251</td>\n",
       "      <td>49</td>\n",
       "      <td>[a, coin, of, our, own, for, r, wsb, why, is, ...</td>\n",
       "      <td>[a, coin, of, our, own, for, r, wsb, whi, is, ...</td>\n",
       "      <td>0.0</td>\n",
       "      <td>0.8070</td>\n",
       "      <td>Neutral</td>\n",
       "      <td>Positive</td>\n",
       "    </tr>\n",
       "    <tr>\n",
       "      <th>53</th>\n",
       "      <td>53</td>\n",
       "      <td>53</td>\n",
       "      <td>Gilead - Can't go wrong</td>\n",
       "      <td>Why you ask? Cuz Donney won't let it crash. He...</td>\n",
       "      <td>Sad-hurt-and-depress</td>\n",
       "      <td>wallstreetbets</td>\n",
       "      <td>1</td>\n",
       "      <td>gilead - can't go wrong why you ask? cuz donne...</td>\n",
       "      <td>332</td>\n",
       "      <td>64</td>\n",
       "      <td>[gilead, can, t, go, wrong, why, you, ask, cuz...</td>\n",
       "      <td>[gilead, can, t, go, wrong, whi, you, ask, cuz...</td>\n",
       "      <td>0.0</td>\n",
       "      <td>0.5875</td>\n",
       "      <td>Neutral</td>\n",
       "      <td>Positive</td>\n",
       "    </tr>\n",
       "  </tbody>\n",
       "</table>\n",
       "</div>"
      ],
      "text/plain": [
       "    Unnamed: 0  index                                              title  \\\n",
       "8            8      8  Gamestop Partners with Sony For a % Commission...   \n",
       "16          16     16                                                AMD   \n",
       "36          36     36                           Never made money on TSLA   \n",
       "40          40     40                        A coin of our own for r/wsb   \n",
       "53          53     53                            Gilead - Can't go wrong   \n",
       "\n",
       "                                             selftext                author  \\\n",
       "8   ...... maybe one day.\\n\\n\\njust imagine if thi...      SourceCodeSeller   \n",
       "16  I really think this is a hell of a investment ...           kinggoku123   \n",
       "36  Back in the pre-split days, I always caught TS...      firstonesnotfree   \n",
       "40  Why is r/cryptocurrency the only one with thei...                philhh   \n",
       "53  Why you ask? Cuz Donney won't let it crash. He...  Sad-hurt-and-depress   \n",
       "\n",
       "         subreddit  sub_target  \\\n",
       "8   wallstreetbets           1   \n",
       "16  wallstreetbets           1   \n",
       "36  wallstreetbets           1   \n",
       "40  wallstreetbets           1   \n",
       "53  wallstreetbets           1   \n",
       "\n",
       "                                             combined  char_count  word_count  \\\n",
       "8   gamestop partners with sony for a % commission...         468          70   \n",
       "16  amd i really think this is a hell of a investm...         307          65   \n",
       "36  never made money on tsla back in the pre-split...         567         102   \n",
       "40  a coin of our own for r/wsb why is r/cryptocur...         251          49   \n",
       "53  gilead - can't go wrong why you ask? cuz donne...         332          64   \n",
       "\n",
       "                                               tokens  \\\n",
       "8   [gamestop, partners, with, sony, for, a, commi...   \n",
       "16  [amd, i, really, think, this, is, a, hell, of,...   \n",
       "36  [never, made, money, on, tsla, back, in, the, ...   \n",
       "40  [a, coin, of, our, own, for, r, wsb, why, is, ...   \n",
       "53  [gilead, can, t, go, wrong, why, you, ask, cuz...   \n",
       "\n",
       "                                              stemmed  stock_sentiment  \\\n",
       "8   [gamestop, partner, with, soni, for, a, commis...              0.0   \n",
       "16  [amd, i, realli, think, thi, is, a, hell, of, ...              0.0   \n",
       "36  [never, made, money, on, tsla, back, in, the, ...              0.0   \n",
       "40  [a, coin, of, our, own, for, r, wsb, whi, is, ...              0.0   \n",
       "53  [gilead, can, t, go, wrong, whi, you, ask, cuz...              0.0   \n",
       "\n",
       "    compound_sent stock_sentiment_sign compound_sent_sign  \n",
       "8          0.3612              Neutral           Positive  \n",
       "16         0.6731              Neutral           Positive  \n",
       "36        -0.1838              Neutral           Negative  \n",
       "40         0.8070              Neutral           Positive  \n",
       "53         0.5875              Neutral           Positive  "
      ]
     },
     "execution_count": 229,
     "metadata": {},
     "output_type": "execute_result"
    }
   ],
   "source": [
    "neutrals.head()"
   ]
  },
  {
   "cell_type": "code",
   "execution_count": 151,
   "metadata": {},
   "outputs": [
    {
     "data": {
      "image/png": "[encoded data removed]",
      "text/plain": [
       "<Figure size 432x288 with 1 Axes>"
      ]
     },
     "metadata": {
      "needs_background": "light"
     },
     "output_type": "display_data"
    }
   ],
   "source": [
    "df.groupby(['sub_target', 'stock_sentiment_sign'])['index'].count().plot(kind='bar');"
   ]
  },
  {
   "cell_type": "code",
   "execution_count": 94,
   "metadata": {},
   "outputs": [
    {
     "data": {
      "text/plain": [
       "<matplotlib.axes._subplots.AxesSubplot at 0x7ff737e8a100>"
      ]
     },
     "execution_count": 94,
     "metadata": {},
     "output_type": "execute_result"
    },
    {
     "data": {
      "image/png": "[encoded data removed]",
      "text/plain": [
       "<Figure size 432x288 with 1 Axes>"
      ]
     },
     "metadata": {
      "needs_background": "light"
     },
     "output_type": "display_data"
    }
   ],
   "source": [
    "df.groupby(['sub_target', 'compound_sent_sign'])['index'].count().plot(kind='bar')"
   ]
  },
  {
   "cell_type": "code",
   "execution_count": 227,
   "metadata": {},
   "outputs": [
    {
     "data": {
      "image/png": "[encoded data removed]",
      "text/plain": [
       "<Figure size 432x288 with 1 Axes>"
      ]
     },
     "metadata": {
      "needs_background": "light"
     },
     "output_type": "display_data"
    }
   ],
   "source": [
    "df.groupby(['subreddit', 'stock_sentiment_sign']).count()['index'].unstack().plot.bar();"
   ]
  },
  {
   "cell_type": "code",
   "execution_count": 172,
   "metadata": {},
   "outputs": [
    {
     "data": {
      "image/png": "[encoded data removed]",
      "text/plain": [
       "<Figure size 432x288 with 1 Axes>"
      ]
     },
     "metadata": {
      "needs_background": "light"
     },
     "output_type": "display_data"
    }
   ],
   "source": [
    "df.groupby(['subreddit', 'compound_sent_sign']).count()['index'].unstack().plot.bar();"
   ]
  },
  {
   "cell_type": "code",
   "execution_count": 230,
   "metadata": {},
   "outputs": [
    {
     "data": {
      "text/plain": [
       "Positive    13027\n",
       "Neutral      3512\n",
       "Negative     3319\n",
       "Name: stock_sentiment_sign, dtype: int64"
      ]
     },
     "execution_count": 230,
     "metadata": {},
     "output_type": "execute_result"
    }
   ],
   "source": [
    "df['stock_sentiment_sign'].value_counts()"
   ]
  },
  {
   "cell_type": "code",
   "execution_count": 231,
   "metadata": {},
   "outputs": [
    {
     "name": "stdout",
     "output_type": "stream",
     "text": [
      "Accuracy of predictions: 0.6025279484338806\n"
     ]
    }
   ],
   "source": [
    "t_positive = 0\n",
    "f_positive = 0\n",
    "t_neutral = 0\n",
    "f_neutral = 0\n",
    "t_negative = 0\n",
    "f_negative = 0\n",
    "\n",
    "for i in range(len(df)):\n",
    "    if df['stock_sentiment_sign'][i] == 'Positive' and df['compound_sent_sign'][i] == 'Positive':\n",
    "        t_positive += 1\n",
    "    elif df['stock_sentiment_sign'][i] == 'Positive' and df['compound_sent_sign'][i] != 'Positive':\n",
    "        f_positive += 1\n",
    "    elif df['stock_sentiment_sign'][i] == 'Neutral' and df['compound_sent_sign'][i] == 'Neutral':\n",
    "        t_neutral += 1\n",
    "    elif df['stock_sentiment_sign'][i] == 'Neutral' and df['compound_sent_sign'][i] != 'Neutral':\n",
    "        f_neutral += 1\n",
    "    elif df['stock_sentiment_sign'][i] == 'Negative' and df['compound_sent_sign'][i] == 'Negative':\n",
    "        t_negative += 1\n",
    "    elif df['stock_sentiment_sign'][i] == 'Negative' and df['compound_sent_sign'][i] != 'Negative':\n",
    "        f_negative += 1\n",
    "        \n",
    "print(f'Accuracy of predictions: {((t_positive+t_neutral+t_negative)/(t_positive+f_positive+t_neutral+f_neutral+t_negative+f_negative))}')"
   ]
  },
  {
   "cell_type": "code",
   "execution_count": 240,
   "metadata": {},
   "outputs": [
    {
     "data": {
      "text/plain": [
       "0.7298064328336487"
      ]
     },
     "execution_count": 240,
     "metadata": {},
     "output_type": "execute_result"
    }
   ],
   "source": [
    "t_positive/13742"
   ]
  },
  {
   "cell_type": "code",
   "execution_count": 241,
   "metadata": {},
   "outputs": [
    {
     "data": {
      "text/plain": [
       "0.5215782983970407"
      ]
     },
     "execution_count": 241,
     "metadata": {},
     "output_type": "execute_result"
    }
   ],
   "source": [
    "t_neutral/811"
   ]
  },
  {
   "cell_type": "code",
   "execution_count": 242,
   "metadata": {},
   "outputs": [
    {
     "data": {
      "text/plain": [
       "0.28520263901979265"
      ]
     },
     "execution_count": 242,
     "metadata": {},
     "output_type": "execute_result"
    }
   ],
   "source": [
    "t_negative/5305"
   ]
  },
  {
   "cell_type": "code",
   "execution_count": 239,
   "metadata": {},
   "outputs": [
    {
     "data": {
      "text/plain": [
       "Positive    13742\n",
       "Negative     5305\n",
       "Neutral       811\n",
       "Name: compound_sent_sign, dtype: int64"
      ]
     },
     "execution_count": 239,
     "metadata": {},
     "output_type": "execute_result"
    }
   ],
   "source": [
    "df['compound_sent_sign'].value_counts()"
   ]
  },
  {
   "cell_type": "code",
   "execution_count": 232,
   "metadata": {},
   "outputs": [
    {
     "data": {
      "text/plain": [
       "Positive    0.692013\n",
       "Negative    0.267147\n",
       "Neutral     0.040840\n",
       "Name: compound_sent_sign, dtype: float64"
      ]
     },
     "execution_count": 232,
     "metadata": {},
     "output_type": "execute_result"
    }
   ],
   "source": [
    "df['compound_sent_sign'].value_counts(normalize=True)"
   ]
  },
  {
   "cell_type": "code",
   "execution_count": null,
   "metadata": {},
   "outputs": [],
   "source": []
  }
 ],
 "metadata": {
  "kernelspec": {
   "display_name": "Python 3",
   "language": "python",
   "name": "python3"
  },
  "language_info": {
   "codemirror_mode": {
    "name": "ipython",
    "version": 3
   },
   "file_extension": ".py",
   "mimetype": "text/x-python",
   "name": "python",
   "nbconvert_exporter": "python",
   "pygments_lexer": "ipython3",
   "version": "3.8.3"
  }
 },
 "nbformat": 4,
 "nbformat_minor": 4
}
