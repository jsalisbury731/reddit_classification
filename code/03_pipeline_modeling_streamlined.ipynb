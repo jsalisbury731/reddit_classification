{
 "cells": [
  {
   "cell_type": "code",
   "execution_count": 1,
   "metadata": {},
   "outputs": [],
   "source": [
    "# Imports\n",
    "\n",
    "import pandas as pd\n",
    "from sklearn.model_selection import train_test_split, GridSearchCV\n",
    "from sklearn.pipeline import Pipeline\n",
    "from sklearn.naive_bayes import MultinomialNB\n",
    "from sklearn.metrics import confusion_matrix, plot_confusion_matrix, recall_score, precision_score, f1_score\n",
    "from sklearn.feature_extraction.text import CountVectorizer, TfidfVectorizer\n",
    "from sklearn.ensemble import RandomForestClassifier\n",
    "from nltk.corpus import stopwords"
   ]
  },
  {
   "cell_type": "markdown",
   "metadata": {},
   "source": [
    "I read in the data from the combined CSV which was created in my EDA notebook."
   ]
  },
  {
   "cell_type": "code",
   "execution_count": 2,
   "metadata": {},
   "outputs": [],
   "source": [
    "df = pd.read_csv('../data/joined_wallstreetbets_investing.csv')"
   ]
  },
  {
   "cell_type": "markdown",
   "metadata": {},
   "source": [
    "I set the X feature, the y target, and perform a split for training and testing data. I then printed out the baseline accuracy score to determine what percentage I would have to improve upon if I were to only predict the majority class (50.4%)."
   ]
  },
  {
   "cell_type": "code",
   "execution_count": 3,
   "metadata": {},
   "outputs": [
    {
     "name": "stdout",
     "output_type": "stream",
     "text": [
      "Baseline accuracy:\n",
      "1    0.504129\n",
      "0    0.495871\n",
      "Name: sub_target, dtype: float64\n"
     ]
    }
   ],
   "source": [
    "X = df['combined']\n",
    "y = df['sub_target']\n",
    "\n",
    "X_train, X_validation, y_train, y_validation = train_test_split(X, y, random_state=42)\n",
    "\n",
    "# Print baseline accuracy\n",
    "print(f'Baseline accuracy:\\n{y_validation.value_counts(normalize=True)}')"
   ]
  },
  {
   "cell_type": "markdown",
   "metadata": {},
   "source": [
    "I created my own list of stopwords based on the most common words from my EDA (after removing stopwords). I also saved the NLTK stopwords to a variable so I could grid search through these stopwords as well as the default 'english' stopwords included with the vectorizers."
   ]
  },
  {
   "cell_type": "code",
   "execution_count": 4,
   "metadata": {},
   "outputs": [],
   "source": [
    "own_stopwords = ['amp', 'x200b', 'fintel', 'io', 'https', 'www', 'http', 'com', \n",
    "                 'wallstreetbets', 'reddit', 'restrict_sr', 'gt', 'flair', 'web']\n",
    "nltk_stopwords = stopwords.words('english')"
   ]
  },
  {
   "cell_type": "markdown",
   "metadata": {},
   "source": [
    "## Multinomial Naive Bayes"
   ]
  },
  {
   "cell_type": "markdown",
   "metadata": {},
   "source": [
    "The first model I chose to run was the Multinomial Naive Bayes. I first established the parameters I wanted to evaluate with my grid search. I then established the pipeline with a vectorizer and the Multinomial NB model. I tested both the CountVectorizer and the TfidfVectorizer, but decided on using the CountVectorizer in conjunction with this model. I then set up my grid search utilizing 5 cross folds and used half of the cores of my computer to speed up processing."
   ]
  },
  {
   "cell_type": "code",
   "execution_count": 5,
   "metadata": {},
   "outputs": [],
   "source": [
    "mnb_pipe_params = {'vec__stop_words': [own_stopwords],\n",
    "                  'vec__max_features': [36000],\n",
    "                  'vec__min_df': [2],\n",
    "                  'vec__max_df': [0.90],\n",
    "                  'vec__ngram_range': [(1, 2)]}\n",
    "\n",
    "mnb_pipe = Pipeline([\n",
    "    ('vec', CountVectorizer()),\n",
    "    ('mnb', MultinomialNB())\n",
    "])\n",
    "\n",
    "mnb_gs = GridSearchCV(mnb_pipe,\n",
    "          mnb_pipe_params,\n",
    "          cv=5,\n",
    "          n_jobs=6,\n",
    "          verbose=1)"
   ]
  },
  {
   "cell_type": "markdown",
   "metadata": {},
   "source": [
    "I then fit my model using the above grid search and printed out my selection of best parameters and the best score."
   ]
  },
  {
   "cell_type": "code",
   "execution_count": 6,
   "metadata": {},
   "outputs": [
    {
     "name": "stdout",
     "output_type": "stream",
     "text": [
      "Fitting 5 folds for each of 1 candidates, totalling 5 fits\n"
     ]
    },
    {
     "name": "stderr",
     "output_type": "stream",
     "text": [
      "[Parallel(n_jobs=6)]: Using backend LokyBackend with 6 concurrent workers.\n",
      "[Parallel(n_jobs=6)]: Done   5 out of   5 | elapsed:    5.6s finished\n"
     ]
    },
    {
     "name": "stdout",
     "output_type": "stream",
     "text": [
      "Best parameters: {'vec__max_df': 0.9, 'vec__max_features': 36000, 'vec__min_df': 2, 'vec__ngram_range': (1, 2), 'vec__stop_words': ['amp', 'x200b', 'fintel', 'io', 'https', 'www', 'http', 'com', 'wallstreetbets', 'reddit', 'restrict_sr', 'gt', 'flair', 'web']}\n",
      "Best score: 0.8703412132070227\n"
     ]
    }
   ],
   "source": [
    "mnb_gs.fit(X_train, y_train)\n",
    "\n",
    "print(f'Best parameters: {mnb_gs.best_params_}')\n",
    "print(f'Best score: {mnb_gs.best_score_}')"
   ]
  },
  {
   "cell_type": "markdown",
   "metadata": {},
   "source": [
    "I then generated predictions on my validation set, unraveled my true negatives, false positives, false negatives, and true positives to aid in calculating the various classification metrics."
   ]
  },
  {
   "cell_type": "code",
   "execution_count": 7,
   "metadata": {},
   "outputs": [
    {
     "name": "stdout",
     "output_type": "stream",
     "text": [
      "Accuracy score: 0.8632426988922457.\n",
      "Specificity score: 0.8809910641754671.\n",
      "Sensitivity score: 0.8457850579304834.\n",
      "Precision score: 0.8784232365145228.\n",
      "F1 score: 0.8617952371259923.\n"
     ]
    }
   ],
   "source": [
    "mnb_preds = mnb_gs.predict(X_validation)\n",
    "\n",
    "tn, fp, fn, tp = confusion_matrix(y_validation, mnb_preds).ravel()\n",
    "\n",
    "print(f'Accuracy score: {mnb_gs.score(X_validation, y_validation)}.')\n",
    "print(f'Specificity score: {tn / (tn+fp)}.')\n",
    "print(f'Sensitivity score: {recall_score(y_validation, mnb_preds)}.')\n",
    "print(f'Precision score: {precision_score(y_validation, mnb_preds)}.')\n",
    "print(f'F1 score: {f1_score(y_validation, mnb_preds)}.')"
   ]
  },
  {
   "cell_type": "markdown",
   "metadata": {},
   "source": [
    "The last part to evaluate for the Multinomial NB model was to look at the confusion matrix."
   ]
  },
  {
   "cell_type": "code",
   "execution_count": 8,
   "metadata": {},
   "outputs": [
    {
     "data": {
      "image/png": "[encoded data removed]",
      "text/plain": [
       "<Figure size 432x288 with 2 Axes>"
      ]
     },
     "metadata": {
      "needs_background": "light"
     },
     "output_type": "display_data"
    }
   ],
   "source": [
    "plot_confusion_matrix(mnb_gs, X_validation, y_validation, cmap='Blues', \n",
    "                      values_format='d', display_labels=['investing', 'wallstreetbets']);"
   ]
  },
  {
   "cell_type": "markdown",
   "metadata": {},
   "source": [
    "## Random Forests"
   ]
  },
  {
   "cell_type": "markdown",
   "metadata": {},
   "source": [
    "The second model I chose to run was the Random Forests. I first established the parameters I wanted to evaluate with my grid search for both the vectorizer and estimator. I then established the pipeline with the TfidfVectorizer and the RF model. I tested both the CountVectorizer and the TfidfVectorizer, but decided on using the TfidfVectorizer in conjunction with this model. I then set up my grid search utilizing 5 cross folds and used half of the cores of my computer to speed up processing."
   ]
  },
  {
   "cell_type": "code",
   "execution_count": 9,
   "metadata": {},
   "outputs": [],
   "source": [
    "rf_pipe_params = {'vec__stop_words': ['english'],\n",
    "                  'vec__max_features': [32000],\n",
    "                  'vec__min_df': [3],\n",
    "                  'vec__max_df': [0.90],\n",
    "                  'vec__ngram_range': [(1, 2)],\n",
    "                  'rf__n_estimators': [100],\n",
    "                  'rf__max_features': ['auto'],\n",
    "                  'rf__max_depth': [None]} \n",
    "\n",
    "rf_pipe = Pipeline([\n",
    "    ('vec', TfidfVectorizer()),\n",
    "    ('rf', RandomForestClassifier())\n",
    "])\n",
    "\n",
    "rf_gs = GridSearchCV(rf_pipe,\n",
    "          rf_pipe_params,\n",
    "          cv=5,\n",
    "          n_jobs=6,\n",
    "          verbose=1)"
   ]
  },
  {
   "cell_type": "markdown",
   "metadata": {},
   "source": [
    "I then fit my model using the above grid search and printed out my selection of best parameters and the best score."
   ]
  },
  {
   "cell_type": "code",
   "execution_count": 10,
   "metadata": {},
   "outputs": [
    {
     "name": "stdout",
     "output_type": "stream",
     "text": [
      "Fitting 5 folds for each of 1 candidates, totalling 5 fits\n"
     ]
    },
    {
     "name": "stderr",
     "output_type": "stream",
     "text": [
      "[Parallel(n_jobs=6)]: Using backend LokyBackend with 6 concurrent workers.\n",
      "[Parallel(n_jobs=6)]: Done   5 out of   5 | elapsed:   18.3s finished\n"
     ]
    },
    {
     "name": "stdout",
     "output_type": "stream",
     "text": [
      "Best parameters: {'rf__max_depth': None, 'rf__max_features': 'auto', 'rf__n_estimators': 100, 'vec__max_df': 0.9, 'vec__max_features': 32000, 'vec__min_df': 3, 'vec__ngram_range': (1, 2), 'vec__stop_words': 'english'}\n",
      "Best score: 0.8661786073141045\n"
     ]
    }
   ],
   "source": [
    "rf_gs.fit(X_train, y_train)\n",
    "\n",
    "print(f'Best parameters: {rf_gs.best_params_}')\n",
    "print(f'Best score: {rf_gs.best_score_}')"
   ]
  },
  {
   "cell_type": "markdown",
   "metadata": {},
   "source": [
    "I then generated predictions on my validation set and unraveled my true negatives, false positives, false negatives, and true positives to aid in calculating the various classification metrics."
   ]
  },
  {
   "cell_type": "code",
   "execution_count": 11,
   "metadata": {},
   "outputs": [
    {
     "name": "stdout",
     "output_type": "stream",
     "text": [
      "Accuracy score: 0.8646525679758308.\n",
      "Specificity score: 0.9012997562956946.\n",
      "Sensitivity score: 0.8286056731921694.\n",
      "Precision score: 0.8951230038843332.\n",
      "F1 score: 0.8605809128630705.\n"
     ]
    }
   ],
   "source": [
    "rf_preds = rf_gs.predict(X_validation)\n",
    "\n",
    "tn, fp, fn, tp = confusion_matrix(y_validation, rf_preds).ravel()\n",
    "\n",
    "print(f'Accuracy score: {rf_gs.score(X_validation, y_validation)}.')\n",
    "print(f'Specificity score: {tn / (tn+fp)}.')\n",
    "print(f'Sensitivity score: {recall_score(y_validation, rf_preds)}.')\n",
    "print(f'Precision score: {precision_score(y_validation, rf_preds)}.')\n",
    "print(f'F1 score: {f1_score(y_validation, rf_preds)}.')"
   ]
  },
  {
   "cell_type": "markdown",
   "metadata": {},
   "source": [
    "The last part to evaluate for the Random Forests model was to look at the confusion matrix."
   ]
  },
  {
   "cell_type": "code",
   "execution_count": 12,
   "metadata": {},
   "outputs": [
    {
     "data": {
      "image/png": "[encoded data removed]",
      "text/plain": [
       "<Figure size 432x288 with 2 Axes>"
      ]
     },
     "metadata": {
      "needs_background": "light"
     },
     "output_type": "display_data"
    }
   ],
   "source": [
    "plot_confusion_matrix(rf_gs, X_validation, y_validation, cmap='Blues', \n",
    "                      values_format='d', display_labels=['investing', 'wallstreetbets']);"
   ]
  },
  {
   "cell_type": "markdown",
   "metadata": {},
   "source": [
    "## Model Comparison"
   ]
  },
  {
   "cell_type": "markdown",
   "metadata": {},
   "source": [
    "When comparing my two final models, it is important to first identify which classification metric I was looking to optimize. Even though my specificity and precision scores were the highest, I felt it was important to maximize my sensitivity or recall score based on the nature of my problem statement, the subreddits I chose, and the data. Considering I was trying to determine whether a post would be classified as something meant more as an investment (less speculative) or as a 'bet' (more speculative), it is safer to classify 'investment' posts as 'bets' incorrectly (false positives) rather than considering a risky or speculative bet as a safe investment incorrectly (false negatives). This increases the overall number of true positives while keeping the same number of all positives equal.\n",
    "\n",
    "With that in mind, the Multinomial Naive Bayes model performed better than the Random Forests model. The NB model scored 0.846 for sensitivity and the RF model scored 0.829."
   ]
  }
 ],
 "metadata": {
  "kernelspec": {
   "display_name": "Python 3",
   "language": "python",
   "name": "python3"
  },
  "language_info": {
   "codemirror_mode": {
    "name": "ipython",
    "version": 3
   },
   "file_extension": ".py",
   "mimetype": "text/x-python",
   "name": "python",
   "nbconvert_exporter": "python",
   "pygments_lexer": "ipython3",
   "version": "3.8.3"
  }
 },
 "nbformat": 4,
 "nbformat_minor": 4
}
